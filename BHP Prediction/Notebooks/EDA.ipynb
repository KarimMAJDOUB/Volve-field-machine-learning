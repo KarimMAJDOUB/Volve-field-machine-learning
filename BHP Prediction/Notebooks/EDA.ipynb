{
 "cells": [
  {
   "cell_type": "markdown",
   "metadata": {},
   "source": [
    "# Description"
   ]
  },
  {
   "cell_type": "markdown",
   "metadata": {},
   "source": [
    "**SOURCE :** https://www.equinor.com/en/news/14jun2018-disclosing-volve-data.html"
   ]
  },
  {
   "cell_type": "markdown",
   "metadata": {},
   "source": [
    "**Target Variable (Dependent Variable)** : AVG_DOWNHOLE_PRESSURE\n",
    "\n",
    "**Features** : AVG_ANNULUS_PRESS ; AVG_CHOKE_SIZE_P ; AVG_WHP_P  (Well head pressure) ; AVG_WHT_P  (Well head pressure); DP_CHOKE_SIZE (difference in pressure) & Oil, Gas and Water Volume output from the well"
   ]
  },
  {
   "cell_type": "markdown",
   "metadata": {},
   "source": [
    "# Libraries"
   ]
  },
  {
   "cell_type": "code",
   "execution_count": 21,
   "metadata": {},
   "outputs": [],
   "source": [
    "import numpy as np\n",
    "import pandas as pd \n",
    "import matplotlib.pyplot as plt \n",
    "import math"
   ]
  },
  {
   "cell_type": "markdown",
   "metadata": {},
   "source": [
    "# Dataset"
   ]
  },
  {
   "cell_type": "code",
   "execution_count": 22,
   "metadata": {},
   "outputs": [],
   "source": [
    "data = pd.read_csv(\"Data/Volve dataset.csv\")"
   ]
  },
  {
   "cell_type": "markdown",
   "metadata": {},
   "source": [
    "## Data Exploration "
   ]
  },
  {
   "cell_type": "code",
   "execution_count": 23,
   "metadata": {},
   "outputs": [
    {
     "data": {
      "text/html": [
       "<div>\n",
       "<style scoped>\n",
       "    .dataframe tbody tr th:only-of-type {\n",
       "        vertical-align: middle;\n",
       "    }\n",
       "\n",
       "    .dataframe tbody tr th {\n",
       "        vertical-align: top;\n",
       "    }\n",
       "\n",
       "    .dataframe thead th {\n",
       "        text-align: right;\n",
       "    }\n",
       "</style>\n",
       "<table border=\"1\" class=\"dataframe\">\n",
       "  <thead>\n",
       "    <tr style=\"text-align: right;\">\n",
       "      <th></th>\n",
       "      <th>DATEPRD</th>\n",
       "      <th>WELL_BORE_CODE</th>\n",
       "      <th>NPD_WELL_BORE_CODE</th>\n",
       "      <th>NPD_WELL_BORE_NAME</th>\n",
       "      <th>NPD_FIELD_CODE</th>\n",
       "      <th>NPD_FIELD_NAME</th>\n",
       "      <th>NPD_FACILITY_CODE</th>\n",
       "      <th>NPD_FACILITY_NAME</th>\n",
       "      <th>ON_STREAM_HRS</th>\n",
       "      <th>AVG_DOWNHOLE_PRESSURE</th>\n",
       "      <th>...</th>\n",
       "      <th>AVG_CHOKE_UOM</th>\n",
       "      <th>AVG_WHP_P</th>\n",
       "      <th>AVG_WHT_P</th>\n",
       "      <th>DP_CHOKE_SIZE</th>\n",
       "      <th>BORE_OIL_VOL</th>\n",
       "      <th>BORE_GAS_VOL</th>\n",
       "      <th>BORE_WAT_VOL</th>\n",
       "      <th>BORE_WI_VOL</th>\n",
       "      <th>FLOW_KIND</th>\n",
       "      <th>WELL_TYPE</th>\n",
       "    </tr>\n",
       "  </thead>\n",
       "  <tbody>\n",
       "    <tr>\n",
       "      <td>0</td>\n",
       "      <td>07-Apr-14</td>\n",
       "      <td>NO 15/9-F-1 C</td>\n",
       "      <td>7405</td>\n",
       "      <td>15/9-F-1 C</td>\n",
       "      <td>3420717</td>\n",
       "      <td>VOLVE</td>\n",
       "      <td>369304</td>\n",
       "      <td>MÆRSK INSPIRER</td>\n",
       "      <td>0.0</td>\n",
       "      <td>0.00</td>\n",
       "      <td>...</td>\n",
       "      <td>%</td>\n",
       "      <td>0.0</td>\n",
       "      <td>0.00</td>\n",
       "      <td>0.00</td>\n",
       "      <td>0.0</td>\n",
       "      <td>0.0</td>\n",
       "      <td>0.0</td>\n",
       "      <td>NaN</td>\n",
       "      <td>production</td>\n",
       "      <td>WI</td>\n",
       "    </tr>\n",
       "    <tr>\n",
       "      <td>1</td>\n",
       "      <td>08-Apr-14</td>\n",
       "      <td>NO 15/9-F-1 C</td>\n",
       "      <td>7405</td>\n",
       "      <td>15/9-F-1 C</td>\n",
       "      <td>3420717</td>\n",
       "      <td>VOLVE</td>\n",
       "      <td>369304</td>\n",
       "      <td>MÆRSK INSPIRER</td>\n",
       "      <td>0.0</td>\n",
       "      <td>NaN</td>\n",
       "      <td>...</td>\n",
       "      <td>%</td>\n",
       "      <td>0.0</td>\n",
       "      <td>0.00</td>\n",
       "      <td>0.00</td>\n",
       "      <td>0.0</td>\n",
       "      <td>0.0</td>\n",
       "      <td>0.0</td>\n",
       "      <td>NaN</td>\n",
       "      <td>production</td>\n",
       "      <td>OP</td>\n",
       "    </tr>\n",
       "    <tr>\n",
       "      <td>2</td>\n",
       "      <td>09-Apr-14</td>\n",
       "      <td>NO 15/9-F-1 C</td>\n",
       "      <td>7405</td>\n",
       "      <td>15/9-F-1 C</td>\n",
       "      <td>3420717</td>\n",
       "      <td>VOLVE</td>\n",
       "      <td>369304</td>\n",
       "      <td>MÆRSK INSPIRER</td>\n",
       "      <td>0.0</td>\n",
       "      <td>NaN</td>\n",
       "      <td>...</td>\n",
       "      <td>%</td>\n",
       "      <td>0.0</td>\n",
       "      <td>0.00</td>\n",
       "      <td>0.00</td>\n",
       "      <td>0.0</td>\n",
       "      <td>0.0</td>\n",
       "      <td>0.0</td>\n",
       "      <td>NaN</td>\n",
       "      <td>production</td>\n",
       "      <td>OP</td>\n",
       "    </tr>\n",
       "    <tr>\n",
       "      <td>3</td>\n",
       "      <td>10-Apr-14</td>\n",
       "      <td>NO 15/9-F-1 C</td>\n",
       "      <td>7405</td>\n",
       "      <td>15/9-F-1 C</td>\n",
       "      <td>3420717</td>\n",
       "      <td>VOLVE</td>\n",
       "      <td>369304</td>\n",
       "      <td>MÆRSK INSPIRER</td>\n",
       "      <td>0.0</td>\n",
       "      <td>NaN</td>\n",
       "      <td>...</td>\n",
       "      <td>%</td>\n",
       "      <td>0.0</td>\n",
       "      <td>0.00</td>\n",
       "      <td>0.00</td>\n",
       "      <td>0.0</td>\n",
       "      <td>0.0</td>\n",
       "      <td>0.0</td>\n",
       "      <td>NaN</td>\n",
       "      <td>production</td>\n",
       "      <td>OP</td>\n",
       "    </tr>\n",
       "    <tr>\n",
       "      <td>4</td>\n",
       "      <td>11-Apr-14</td>\n",
       "      <td>NO 15/9-F-1 C</td>\n",
       "      <td>7405</td>\n",
       "      <td>15/9-F-1 C</td>\n",
       "      <td>3420717</td>\n",
       "      <td>VOLVE</td>\n",
       "      <td>369304</td>\n",
       "      <td>MÆRSK INSPIRER</td>\n",
       "      <td>0.0</td>\n",
       "      <td>310.38</td>\n",
       "      <td>...</td>\n",
       "      <td>%</td>\n",
       "      <td>33.1</td>\n",
       "      <td>10.48</td>\n",
       "      <td>33.07</td>\n",
       "      <td>0.0</td>\n",
       "      <td>0.0</td>\n",
       "      <td>0.0</td>\n",
       "      <td>NaN</td>\n",
       "      <td>production</td>\n",
       "      <td>OP</td>\n",
       "    </tr>\n",
       "  </tbody>\n",
       "</table>\n",
       "<p>5 rows × 24 columns</p>\n",
       "</div>"
      ],
      "text/plain": [
       "     DATEPRD WELL_BORE_CODE  NPD_WELL_BORE_CODE NPD_WELL_BORE_NAME  \\\n",
       "0  07-Apr-14  NO 15/9-F-1 C                7405         15/9-F-1 C   \n",
       "1  08-Apr-14  NO 15/9-F-1 C                7405         15/9-F-1 C   \n",
       "2  09-Apr-14  NO 15/9-F-1 C                7405         15/9-F-1 C   \n",
       "3  10-Apr-14  NO 15/9-F-1 C                7405         15/9-F-1 C   \n",
       "4  11-Apr-14  NO 15/9-F-1 C                7405         15/9-F-1 C   \n",
       "\n",
       "   NPD_FIELD_CODE NPD_FIELD_NAME  NPD_FACILITY_CODE NPD_FACILITY_NAME  \\\n",
       "0         3420717          VOLVE             369304    MÆRSK INSPIRER   \n",
       "1         3420717          VOLVE             369304    MÆRSK INSPIRER   \n",
       "2         3420717          VOLVE             369304    MÆRSK INSPIRER   \n",
       "3         3420717          VOLVE             369304    MÆRSK INSPIRER   \n",
       "4         3420717          VOLVE             369304    MÆRSK INSPIRER   \n",
       "\n",
       "   ON_STREAM_HRS  AVG_DOWNHOLE_PRESSURE  ...  AVG_CHOKE_UOM  AVG_WHP_P  \\\n",
       "0            0.0                   0.00  ...              %        0.0   \n",
       "1            0.0                    NaN  ...              %        0.0   \n",
       "2            0.0                    NaN  ...              %        0.0   \n",
       "3            0.0                    NaN  ...              %        0.0   \n",
       "4            0.0                 310.38  ...              %       33.1   \n",
       "\n",
       "   AVG_WHT_P  DP_CHOKE_SIZE BORE_OIL_VOL  BORE_GAS_VOL  BORE_WAT_VOL  \\\n",
       "0       0.00           0.00          0.0           0.0           0.0   \n",
       "1       0.00           0.00          0.0           0.0           0.0   \n",
       "2       0.00           0.00          0.0           0.0           0.0   \n",
       "3       0.00           0.00          0.0           0.0           0.0   \n",
       "4      10.48          33.07          0.0           0.0           0.0   \n",
       "\n",
       "   BORE_WI_VOL   FLOW_KIND  WELL_TYPE  \n",
       "0          NaN  production         WI  \n",
       "1          NaN  production         OP  \n",
       "2          NaN  production         OP  \n",
       "3          NaN  production         OP  \n",
       "4          NaN  production         OP  \n",
       "\n",
       "[5 rows x 24 columns]"
      ]
     },
     "execution_count": 23,
     "metadata": {},
     "output_type": "execute_result"
    }
   ],
   "source": [
    "data.head()"
   ]
  },
  {
   "cell_type": "code",
   "execution_count": 24,
   "metadata": {},
   "outputs": [
    {
     "data": {
      "text/html": [
       "<div>\n",
       "<style scoped>\n",
       "    .dataframe tbody tr th:only-of-type {\n",
       "        vertical-align: middle;\n",
       "    }\n",
       "\n",
       "    .dataframe tbody tr th {\n",
       "        vertical-align: top;\n",
       "    }\n",
       "\n",
       "    .dataframe thead th {\n",
       "        text-align: right;\n",
       "    }\n",
       "</style>\n",
       "<table border=\"1\" class=\"dataframe\">\n",
       "  <thead>\n",
       "    <tr style=\"text-align: right;\">\n",
       "      <th></th>\n",
       "      <th>NPD_WELL_BORE_CODE</th>\n",
       "      <th>NPD_FIELD_CODE</th>\n",
       "      <th>NPD_FACILITY_CODE</th>\n",
       "      <th>ON_STREAM_HRS</th>\n",
       "      <th>AVG_DOWNHOLE_PRESSURE</th>\n",
       "      <th>AVG_DOWNHOLE_TEMPERATURE</th>\n",
       "      <th>AVG_DP_TUBING</th>\n",
       "      <th>AVG_ANNULUS_PRESS</th>\n",
       "      <th>AVG_CHOKE_SIZE_P</th>\n",
       "      <th>AVG_WHP_P</th>\n",
       "      <th>AVG_WHT_P</th>\n",
       "      <th>DP_CHOKE_SIZE</th>\n",
       "      <th>BORE_OIL_VOL</th>\n",
       "      <th>BORE_GAS_VOL</th>\n",
       "      <th>BORE_WAT_VOL</th>\n",
       "      <th>BORE_WI_VOL</th>\n",
       "    </tr>\n",
       "  </thead>\n",
       "  <tbody>\n",
       "    <tr>\n",
       "      <td>count</td>\n",
       "      <td>15634.000000</td>\n",
       "      <td>15634.0</td>\n",
       "      <td>15634.0</td>\n",
       "      <td>15349.000000</td>\n",
       "      <td>8980.000000</td>\n",
       "      <td>8980.000000</td>\n",
       "      <td>8980.000000</td>\n",
       "      <td>7890.000000</td>\n",
       "      <td>8919.000000</td>\n",
       "      <td>9155.000000</td>\n",
       "      <td>9146.000000</td>\n",
       "      <td>15340.000000</td>\n",
       "      <td>9161.000000</td>\n",
       "      <td>9161.000000</td>\n",
       "      <td>9161.000000</td>\n",
       "      <td>5706.000000</td>\n",
       "    </tr>\n",
       "    <tr>\n",
       "      <td>mean</td>\n",
       "      <td>5908.581745</td>\n",
       "      <td>3420717.0</td>\n",
       "      <td>369304.0</td>\n",
       "      <td>19.994172</td>\n",
       "      <td>181.803906</td>\n",
       "      <td>77.162982</td>\n",
       "      <td>154.028821</td>\n",
       "      <td>14.856087</td>\n",
       "      <td>55.168560</td>\n",
       "      <td>45.377821</td>\n",
       "      <td>67.728389</td>\n",
       "      <td>11.441017</td>\n",
       "      <td>1095.631548</td>\n",
       "      <td>161049.059703</td>\n",
       "      <td>1672.151332</td>\n",
       "      <td>5315.480818</td>\n",
       "    </tr>\n",
       "    <tr>\n",
       "      <td>std</td>\n",
       "      <td>649.231622</td>\n",
       "      <td>0.0</td>\n",
       "      <td>0.0</td>\n",
       "      <td>8.369911</td>\n",
       "      <td>109.712397</td>\n",
       "      <td>45.657959</td>\n",
       "      <td>76.752465</td>\n",
       "      <td>8.406778</td>\n",
       "      <td>36.693002</td>\n",
       "      <td>24.752653</td>\n",
       "      <td>27.719028</td>\n",
       "      <td>19.816905</td>\n",
       "      <td>1323.538151</td>\n",
       "      <td>188136.410434</td>\n",
       "      <td>1706.982853</td>\n",
       "      <td>2181.486660</td>\n",
       "    </tr>\n",
       "    <tr>\n",
       "      <td>min</td>\n",
       "      <td>5351.000000</td>\n",
       "      <td>3420717.0</td>\n",
       "      <td>369304.0</td>\n",
       "      <td>0.000000</td>\n",
       "      <td>0.000000</td>\n",
       "      <td>0.000000</td>\n",
       "      <td>0.000000</td>\n",
       "      <td>0.000000</td>\n",
       "      <td>0.000000</td>\n",
       "      <td>0.000000</td>\n",
       "      <td>0.000000</td>\n",
       "      <td>0.000000</td>\n",
       "      <td>0.000000</td>\n",
       "      <td>0.000000</td>\n",
       "      <td>-457.840000</td>\n",
       "      <td>0.000000</td>\n",
       "    </tr>\n",
       "    <tr>\n",
       "      <td>25%</td>\n",
       "      <td>5599.000000</td>\n",
       "      <td>3420717.0</td>\n",
       "      <td>369304.0</td>\n",
       "      <td>24.000000</td>\n",
       "      <td>0.000000</td>\n",
       "      <td>0.000000</td>\n",
       "      <td>83.665000</td>\n",
       "      <td>10.842500</td>\n",
       "      <td>18.955000</td>\n",
       "      <td>31.150000</td>\n",
       "      <td>56.580000</td>\n",
       "      <td>0.000000</td>\n",
       "      <td>190.690000</td>\n",
       "      <td>29430.590000</td>\n",
       "      <td>19.870000</td>\n",
       "      <td>4338.207500</td>\n",
       "    </tr>\n",
       "    <tr>\n",
       "      <td>50%</td>\n",
       "      <td>5693.000000</td>\n",
       "      <td>3420717.0</td>\n",
       "      <td>369304.0</td>\n",
       "      <td>24.000000</td>\n",
       "      <td>232.895000</td>\n",
       "      <td>103.185000</td>\n",
       "      <td>175.585000</td>\n",
       "      <td>16.310000</td>\n",
       "      <td>52.100000</td>\n",
       "      <td>37.930000</td>\n",
       "      <td>80.070000</td>\n",
       "      <td>2.385000</td>\n",
       "      <td>557.550000</td>\n",
       "      <td>87749.660000</td>\n",
       "      <td>1097.790000</td>\n",
       "      <td>5504.740000</td>\n",
       "    </tr>\n",
       "    <tr>\n",
       "      <td>75%</td>\n",
       "      <td>5769.000000</td>\n",
       "      <td>3420717.0</td>\n",
       "      <td>369304.0</td>\n",
       "      <td>24.000000</td>\n",
       "      <td>255.402500</td>\n",
       "      <td>106.280000</td>\n",
       "      <td>204.317500</td>\n",
       "      <td>21.307500</td>\n",
       "      <td>99.920000</td>\n",
       "      <td>57.105000</td>\n",
       "      <td>88.060000</td>\n",
       "      <td>13.762500</td>\n",
       "      <td>1345.200000</td>\n",
       "      <td>202482.300000</td>\n",
       "      <td>3260.950000</td>\n",
       "      <td>6781.057500</td>\n",
       "    </tr>\n",
       "    <tr>\n",
       "      <td>max</td>\n",
       "      <td>7405.000000</td>\n",
       "      <td>3420717.0</td>\n",
       "      <td>369304.0</td>\n",
       "      <td>25.000000</td>\n",
       "      <td>397.590000</td>\n",
       "      <td>108.500000</td>\n",
       "      <td>345.910000</td>\n",
       "      <td>30.020000</td>\n",
       "      <td>100.000000</td>\n",
       "      <td>137.310000</td>\n",
       "      <td>93.510000</td>\n",
       "      <td>125.720000</td>\n",
       "      <td>5901.840000</td>\n",
       "      <td>851131.520000</td>\n",
       "      <td>8019.740000</td>\n",
       "      <td>10013.600000</td>\n",
       "    </tr>\n",
       "  </tbody>\n",
       "</table>\n",
       "</div>"
      ],
      "text/plain": [
       "       NPD_WELL_BORE_CODE  NPD_FIELD_CODE  NPD_FACILITY_CODE  ON_STREAM_HRS  \\\n",
       "count        15634.000000         15634.0            15634.0   15349.000000   \n",
       "mean          5908.581745       3420717.0           369304.0      19.994172   \n",
       "std            649.231622             0.0                0.0       8.369911   \n",
       "min           5351.000000       3420717.0           369304.0       0.000000   \n",
       "25%           5599.000000       3420717.0           369304.0      24.000000   \n",
       "50%           5693.000000       3420717.0           369304.0      24.000000   \n",
       "75%           5769.000000       3420717.0           369304.0      24.000000   \n",
       "max           7405.000000       3420717.0           369304.0      25.000000   \n",
       "\n",
       "       AVG_DOWNHOLE_PRESSURE  AVG_DOWNHOLE_TEMPERATURE  AVG_DP_TUBING  \\\n",
       "count            8980.000000               8980.000000    8980.000000   \n",
       "mean              181.803906                 77.162982     154.028821   \n",
       "std               109.712397                 45.657959      76.752465   \n",
       "min                 0.000000                  0.000000       0.000000   \n",
       "25%                 0.000000                  0.000000      83.665000   \n",
       "50%               232.895000                103.185000     175.585000   \n",
       "75%               255.402500                106.280000     204.317500   \n",
       "max               397.590000                108.500000     345.910000   \n",
       "\n",
       "       AVG_ANNULUS_PRESS  AVG_CHOKE_SIZE_P    AVG_WHP_P    AVG_WHT_P  \\\n",
       "count        7890.000000       8919.000000  9155.000000  9146.000000   \n",
       "mean           14.856087         55.168560    45.377821    67.728389   \n",
       "std             8.406778         36.693002    24.752653    27.719028   \n",
       "min             0.000000          0.000000     0.000000     0.000000   \n",
       "25%            10.842500         18.955000    31.150000    56.580000   \n",
       "50%            16.310000         52.100000    37.930000    80.070000   \n",
       "75%            21.307500         99.920000    57.105000    88.060000   \n",
       "max            30.020000        100.000000   137.310000    93.510000   \n",
       "\n",
       "       DP_CHOKE_SIZE  BORE_OIL_VOL   BORE_GAS_VOL  BORE_WAT_VOL   BORE_WI_VOL  \n",
       "count   15340.000000   9161.000000    9161.000000   9161.000000   5706.000000  \n",
       "mean       11.441017   1095.631548  161049.059703   1672.151332   5315.480818  \n",
       "std        19.816905   1323.538151  188136.410434   1706.982853   2181.486660  \n",
       "min         0.000000      0.000000       0.000000   -457.840000      0.000000  \n",
       "25%         0.000000    190.690000   29430.590000     19.870000   4338.207500  \n",
       "50%         2.385000    557.550000   87749.660000   1097.790000   5504.740000  \n",
       "75%        13.762500   1345.200000  202482.300000   3260.950000   6781.057500  \n",
       "max       125.720000   5901.840000  851131.520000   8019.740000  10013.600000  "
      ]
     },
     "execution_count": 24,
     "metadata": {},
     "output_type": "execute_result"
    }
   ],
   "source": [
    "data.describe()"
   ]
  },
  {
   "cell_type": "code",
   "execution_count": 25,
   "metadata": {},
   "outputs": [
    {
     "name": "stdout",
     "output_type": "stream",
     "text": [
      "<class 'pandas.core.frame.DataFrame'>\n",
      "RangeIndex: 15634 entries, 0 to 15633\n",
      "Data columns (total 24 columns):\n",
      "DATEPRD                     15634 non-null object\n",
      "WELL_BORE_CODE              15634 non-null object\n",
      "NPD_WELL_BORE_CODE          15634 non-null int64\n",
      "NPD_WELL_BORE_NAME          15634 non-null object\n",
      "NPD_FIELD_CODE              15634 non-null int64\n",
      "NPD_FIELD_NAME              15634 non-null object\n",
      "NPD_FACILITY_CODE           15634 non-null int64\n",
      "NPD_FACILITY_NAME           15634 non-null object\n",
      "ON_STREAM_HRS               15349 non-null float64\n",
      "AVG_DOWNHOLE_PRESSURE       8980 non-null float64\n",
      "AVG_DOWNHOLE_TEMPERATURE    8980 non-null float64\n",
      "AVG_DP_TUBING               8980 non-null float64\n",
      "AVG_ANNULUS_PRESS           7890 non-null float64\n",
      "AVG_CHOKE_SIZE_P            8919 non-null float64\n",
      "AVG_CHOKE_UOM               9161 non-null object\n",
      "AVG_WHP_P                   9155 non-null float64\n",
      "AVG_WHT_P                   9146 non-null float64\n",
      "DP_CHOKE_SIZE               15340 non-null float64\n",
      "BORE_OIL_VOL                9161 non-null float64\n",
      "BORE_GAS_VOL                9161 non-null float64\n",
      "BORE_WAT_VOL                9161 non-null float64\n",
      "BORE_WI_VOL                 5706 non-null float64\n",
      "FLOW_KIND                   15634 non-null object\n",
      "WELL_TYPE                   15634 non-null object\n",
      "dtypes: float64(13), int64(3), object(8)\n",
      "memory usage: 2.9+ MB\n"
     ]
    }
   ],
   "source": [
    "data.info()"
   ]
  },
  {
   "cell_type": "code",
   "execution_count": 9,
   "metadata": {},
   "outputs": [
    {
     "data": {
      "text/plain": [
       "<matplotlib.axes._subplots.AxesSubplot at 0x2d3f5069448>"
      ]
     },
     "execution_count": 9,
     "metadata": {},
     "output_type": "execute_result"
    },
    {
     "data": {
      "image/png": "[encoded data removed]",
      "text/plain": [
       "<Figure size 1440x720 with 1 Axes>"
      ]
     },
     "metadata": {
      "needs_background": "light"
     },
     "output_type": "display_data"
    }
   ],
   "source": [
    "plt.figure(figsize = (20,10))\n",
    "sns.heatmap(data.isna(), cbar = False)"
   ]
  },
  {
   "cell_type": "markdown",
   "metadata": {},
   "source": [
    "**--> There are a lot of Nan values**"
   ]
  },
  {
   "cell_type": "markdown",
   "metadata": {},
   "source": [
    "## Data Cleaning "
   ]
  },
  {
   "cell_type": "code",
   "execution_count": 26,
   "metadata": {},
   "outputs": [],
   "source": [
    "# Filtering out values of target variable that has zero values\n",
    "data = data[(data['AVG_DOWNHOLE_PRESSURE'] !=0)]"
   ]
  },
  {
   "cell_type": "code",
   "execution_count": 27,
   "metadata": {},
   "outputs": [],
   "source": [
    "#Selecting rows only during the production state and dropping off shutdown period values\n",
    "data =data.drop(data[(data['BORE_OIL_VOL'] == 0) & (data['BORE_GAS_VOL'] == 0.0) & (data['BORE_WAT_VOL'] == 0)].index)"
   ]
  },
  {
   "cell_type": "code",
   "execution_count": 28,
   "metadata": {},
   "outputs": [],
   "source": [
    "# Dropping all nan values \n",
    "data=data.dropna(subset =[\"AVG_DOWNHOLE_PRESSURE\"])"
   ]
  },
  {
   "cell_type": "code",
   "execution_count": 29,
   "metadata": {},
   "outputs": [
    {
     "name": "stdout",
     "output_type": "stream",
     "text": [
      "<class 'pandas.core.frame.DataFrame'>\n",
      "Int64Index: 5943 entries, 15 to 8927\n",
      "Data columns (total 24 columns):\n",
      "DATEPRD                     5943 non-null object\n",
      "WELL_BORE_CODE              5943 non-null object\n",
      "NPD_WELL_BORE_CODE          5943 non-null int64\n",
      "NPD_WELL_BORE_NAME          5943 non-null object\n",
      "NPD_FIELD_CODE              5943 non-null int64\n",
      "NPD_FIELD_NAME              5943 non-null object\n",
      "NPD_FACILITY_CODE           5943 non-null int64\n",
      "NPD_FACILITY_NAME           5943 non-null object\n",
      "ON_STREAM_HRS               5943 non-null float64\n",
      "AVG_DOWNHOLE_PRESSURE       5943 non-null float64\n",
      "AVG_DOWNHOLE_TEMPERATURE    5943 non-null float64\n",
      "AVG_DP_TUBING               5943 non-null float64\n",
      "AVG_ANNULUS_PRESS           5021 non-null float64\n",
      "AVG_CHOKE_SIZE_P            5943 non-null float64\n",
      "AVG_CHOKE_UOM               5943 non-null object\n",
      "AVG_WHP_P                   5943 non-null float64\n",
      "AVG_WHT_P                   5943 non-null float64\n",
      "DP_CHOKE_SIZE               5943 non-null float64\n",
      "BORE_OIL_VOL                5943 non-null float64\n",
      "BORE_GAS_VOL                5943 non-null float64\n",
      "BORE_WAT_VOL                5943 non-null float64\n",
      "BORE_WI_VOL                 0 non-null float64\n",
      "FLOW_KIND                   5943 non-null object\n",
      "WELL_TYPE                   5943 non-null object\n",
      "dtypes: float64(13), int64(3), object(8)\n",
      "memory usage: 1.1+ MB\n"
     ]
    }
   ],
   "source": [
    "data.info()"
   ]
  },
  {
   "cell_type": "markdown",
   "metadata": {},
   "source": [
    "## Dropping columns"
   ]
  },
  {
   "cell_type": "code",
   "execution_count": 30,
   "metadata": {},
   "outputs": [
    {
     "data": {
      "text/plain": [
       "Index(['DATEPRD', 'WELL_BORE_CODE', 'NPD_WELL_BORE_CODE', 'NPD_WELL_BORE_NAME',\n",
       "       'NPD_FIELD_CODE', 'NPD_FIELD_NAME', 'NPD_FACILITY_CODE',\n",
       "       'NPD_FACILITY_NAME', 'ON_STREAM_HRS', 'AVG_DOWNHOLE_PRESSURE',\n",
       "       'AVG_DOWNHOLE_TEMPERATURE', 'AVG_DP_TUBING', 'AVG_ANNULUS_PRESS',\n",
       "       'AVG_CHOKE_SIZE_P', 'AVG_CHOKE_UOM', 'AVG_WHP_P', 'AVG_WHT_P',\n",
       "       'DP_CHOKE_SIZE', 'BORE_OIL_VOL', 'BORE_GAS_VOL', 'BORE_WAT_VOL',\n",
       "       'BORE_WI_VOL', 'FLOW_KIND', 'WELL_TYPE'],\n",
       "      dtype='object')"
      ]
     },
     "execution_count": 30,
     "metadata": {},
     "output_type": "execute_result"
    }
   ],
   "source": [
    "data.columns"
   ]
  },
  {
   "cell_type": "code",
   "execution_count": 31,
   "metadata": {},
   "outputs": [
    {
     "data": {
      "text/plain": [
       "float64    13\n",
       "object      8\n",
       "int64       3\n",
       "dtype: int64"
      ]
     },
     "execution_count": 31,
     "metadata": {},
     "output_type": "execute_result"
    }
   ],
   "source": [
    "data.dtypes\n",
    "data.dtypes.value_counts()"
   ]
  },
  {
   "cell_type": "code",
   "execution_count": 32,
   "metadata": {},
   "outputs": [
    {
     "data": {
      "text/plain": [
       "<matplotlib.axes._subplots.AxesSubplot at 0x1a891ed3e48>"
      ]
     },
     "execution_count": 32,
     "metadata": {},
     "output_type": "execute_result"
    },
    {
     "data": {
      "image/png": "[encoded data removed]",
      "text/plain": [
       "<Figure size 432x288 with 1 Axes>"
      ]
     },
     "metadata": {},
     "output_type": "display_data"
    }
   ],
   "source": [
    "data.dtypes.value_counts().plot.pie()"
   ]
  },
  {
   "cell_type": "code",
   "execution_count": 33,
   "metadata": {},
   "outputs": [
    {
     "name": "stdout",
     "output_type": "stream",
     "text": [
      "DATEPRD------------------------------------------- ['22-Apr-14' '23-Apr-14' '24-Apr-14' ... '17-Apr-16' '21-Apr-16'\n",
      " '22-Apr-16']\n",
      "WELL_BORE_CODE------------------------------------ ['NO 15/9-F-1 C' 'NO 15/9-F-11 H' 'NO 15/9-F-12 H' 'NO 15/9-F-14 H'\n",
      " 'NO 15/9-F-15 D']\n",
      "NPD_WELL_BORE_NAME-------------------------------- ['15/9-F-1 C' '15/9-F-11' '15/9-F-12' '15/9-F-14' '15/9-F-15 D']\n",
      "NPD_FIELD_NAME------------------------------------ ['VOLVE']\n",
      "NPD_FACILITY_NAME--------------------------------- ['MÆRSK INSPIRER']\n",
      "AVG_CHOKE_UOM------------------------------------- ['%']\n",
      "FLOW_KIND----------------------------------------- ['production']\n",
      "WELL_TYPE----------------------------------------- ['OP' 'WI']\n"
     ]
    }
   ],
   "source": [
    "for col in data.select_dtypes('object'):\n",
    "    print(f'{col :-<50} {data[col].unique()}')"
   ]
  },
  {
   "cell_type": "markdown",
   "metadata": {},
   "source": [
    "#### --> Drop : \n",
    "(Codes, Names, Hrs)\n",
    "\n",
    "    NPD_WELL_BORE_CODE        5940 non-null   object\n",
    "    \n",
    "    NPD_WELL_BORE_NAME          5943 non-null object\n",
    " \n",
    "    NPD_FIELD_NAME            5940 non-null   object\n",
    "    \n",
    "    NPD_FIELD_CODE              5943 non-null int64\n",
    " \n",
    "    NPD_FACILITY_NAME         5940 non-null   object\n",
    "    \n",
    "    AVG_CHOKE_UOM             5940 non-null   object\n",
    "    \n",
    "    FLOW_KIND                 5940 non-null   object \n",
    " \n",
    "    ON_STREAM_HRS             5940 non-null   float64\n"
   ]
  },
  {
   "cell_type": "code",
   "execution_count": 34,
   "metadata": {},
   "outputs": [],
   "source": [
    "df=data.drop(data.columns[2:9], axis =1)"
   ]
  },
  {
   "cell_type": "code",
   "execution_count": 35,
   "metadata": {},
   "outputs": [],
   "source": [
    "#AVG_ANNULUS_PRESS : Not measured at the surface\n",
    "df = df.drop(df.columns[5], axis =1)"
   ]
  },
  {
   "cell_type": "code",
   "execution_count": 36,
   "metadata": {},
   "outputs": [],
   "source": [
    "#AVG_CHOKE_UOM (Symbol)\n",
    "df = df.drop(df.columns[7], axis =1)"
   ]
  },
  {
   "cell_type": "code",
   "execution_count": 37,
   "metadata": {},
   "outputs": [
    {
     "data": {
      "text/plain": [
       "OP    5942\n",
       "WI       1\n",
       "Name: WELL_TYPE, dtype: int64"
      ]
     },
     "execution_count": 37,
     "metadata": {},
     "output_type": "execute_result"
    }
   ],
   "source": [
    "df[\"WELL_TYPE\"].value_counts()"
   ]
  },
  {
   "cell_type": "code",
   "execution_count": 38,
   "metadata": {},
   "outputs": [],
   "source": [
    "#only consider OP wells\n",
    "df=df.loc[df[\"WELL_TYPE\"]=='OP']"
   ]
  },
  {
   "cell_type": "code",
   "execution_count": 39,
   "metadata": {},
   "outputs": [],
   "source": [
    "#WI_VOL (NO DATA) & Flow_Kind & Well_Type \n",
    "df=df.iloc[:,:12]"
   ]
  },
  {
   "cell_type": "code",
   "execution_count": 40,
   "metadata": {},
   "outputs": [
    {
     "name": "stdout",
     "output_type": "stream",
     "text": [
      "<class 'pandas.core.frame.DataFrame'>\n",
      "Int64Index: 5942 entries, 15 to 8927\n",
      "Data columns (total 12 columns):\n",
      "DATEPRD                     5942 non-null object\n",
      "WELL_BORE_CODE              5942 non-null object\n",
      "AVG_DOWNHOLE_PRESSURE       5942 non-null float64\n",
      "AVG_DOWNHOLE_TEMPERATURE    5942 non-null float64\n",
      "AVG_DP_TUBING               5942 non-null float64\n",
      "AVG_CHOKE_SIZE_P            5942 non-null float64\n",
      "AVG_CHOKE_UOM               5942 non-null object\n",
      "AVG_WHT_P                   5942 non-null float64\n",
      "DP_CHOKE_SIZE               5942 non-null float64\n",
      "BORE_OIL_VOL                5942 non-null float64\n",
      "BORE_GAS_VOL                5942 non-null float64\n",
      "BORE_WAT_VOL                5942 non-null float64\n",
      "dtypes: float64(9), object(3)\n",
      "memory usage: 603.5+ KB\n"
     ]
    }
   ],
   "source": [
    "df.info()"
   ]
  },
  {
   "cell_type": "code",
   "execution_count": 41,
   "metadata": {},
   "outputs": [
    {
     "data": {
      "text/plain": [
       "NO 15/9-F-14 H    2703\n",
       "NO 15/9-F-11 H    1118\n",
       "NO 15/9-F-12 H     925\n",
       "NO 15/9-F-15 D     767\n",
       "NO 15/9-F-1 C      429\n",
       "Name: WELL_BORE_CODE, dtype: int64"
      ]
     },
     "execution_count": 41,
     "metadata": {},
     "output_type": "execute_result"
    }
   ],
   "source": [
    "# Each well data\n",
    "df[\"WELL_BORE_CODE\"].value_counts()"
   ]
  },
  {
   "cell_type": "code",
   "execution_count": 42,
   "metadata": {},
   "outputs": [],
   "source": [
    "df.to_csv('Data/Cleaned_Data.csv')"
   ]
  },
  {
   "cell_type": "code",
   "execution_count": null,
   "metadata": {},
   "outputs": [],
   "source": []
  }
 ],
 "metadata": {
  "kernelspec": {
   "display_name": "Python 3",
   "language": "python",
   "name": "python3"
  },
  "language_info": {
   "codemirror_mode": {
    "name": "ipython",
    "version": 3
   },
   "file_extension": ".py",
   "mimetype": "text/x-python",
   "name": "python",
   "nbconvert_exporter": "python",
   "pygments_lexer": "ipython3",
   "version": "3.7.4"
  }
 },
 "nbformat": 4,
 "nbformat_minor": 4
}
