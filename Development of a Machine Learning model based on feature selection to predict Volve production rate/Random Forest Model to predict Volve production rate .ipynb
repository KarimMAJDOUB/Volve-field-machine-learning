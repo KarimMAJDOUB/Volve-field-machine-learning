{
 "cells": [
  {
   "cell_type": "code",
   "execution_count": 1,
   "metadata": {},
   "outputs": [],
   "source": [
    "# Import packages\n",
    "import numpy as np\n",
    "import pandas as pd\n",
    "import matplotlib.pyplot as plt\n",
    "%matplotlib inline\n",
    "plt.style.use('seaborn-whitegrid')\n",
    "from IPython.display import display, HTML, display_html\n",
    "import seaborn as sns\n",
    "import datetime\n",
    "\n",
    "# Machine Learning Models\n",
    "from sklearn.ensemble import RandomForestRegressor\n",
    "from sklearn.svm import SVR\n",
    "from sklearn.neural_network import MLPRegressor\n",
    "from sklearn import preprocessing\n",
    "from sklearn.preprocessing import StandardScaler, MinMaxScaler\n",
    "from sklearn.model_selection import TimeSeriesSplit\n",
    "\n",
    "# Train-test split\n",
    "from sklearn.model_selection import train_test_split\n",
    "\n",
    "\n",
    "# Hyperparameter tuning\n",
    "from sklearn.model_selection import cross_val_score\n",
    "from sklearn.model_selection import RandomizedSearchCV, GridSearchCV\n",
    "\n",
    "\n",
    "# Metrics\n",
    "\n",
    "from sklearn import metrics\n",
    "from sklearn.metrics import mean_absolute_error\n",
    "from sklearn.metrics import mean_squared_error\n",
    "from sklearn.metrics import r2_score\n",
    "from sklearn.metrics import explained_variance_score\n",
    "\n",
    "# Additionals\n",
    "\n",
    "from pprint import pprint\n",
    "from math import sqrt\n"
   ]
  },
  {
   "cell_type": "markdown",
   "metadata": {},
   "source": [
    "# DataSet"
   ]
  },
  {
   "cell_type": "code",
   "execution_count": 2,
   "metadata": {},
   "outputs": [
    {
     "data": {
      "text/html": [
       "<div>\n",
       "<style scoped>\n",
       "    .dataframe tbody tr th:only-of-type {\n",
       "        vertical-align: middle;\n",
       "    }\n",
       "\n",
       "    .dataframe tbody tr th {\n",
       "        vertical-align: top;\n",
       "    }\n",
       "\n",
       "    .dataframe thead th {\n",
       "        text-align: right;\n",
       "    }\n",
       "</style>\n",
       "<table border=\"1\" class=\"dataframe\">\n",
       "  <thead>\n",
       "    <tr style=\"text-align: right;\">\n",
       "      <th></th>\n",
       "      <th>Unnamed: 0</th>\n",
       "      <th>DATEPRD</th>\n",
       "      <th>NPD_WELL_BORE_CODE</th>\n",
       "      <th>ON_STREAM_HRS</th>\n",
       "      <th>AVG_DOWNHOLE_PRESSURE</th>\n",
       "      <th>AVG_DP_TUBING</th>\n",
       "      <th>AVG_WHP_P</th>\n",
       "      <th>AVG_WHT_P</th>\n",
       "      <th>DP_CHOKE_SIZE</th>\n",
       "      <th>BORE_OIL_VOL</th>\n",
       "      <th>BORE_GAS_VOL</th>\n",
       "      <th>BORE_WAT_VOL</th>\n",
       "    </tr>\n",
       "  </thead>\n",
       "  <tbody>\n",
       "    <tr>\n",
       "      <td>0</td>\n",
       "      <td>0</td>\n",
       "      <td>2014-04-22</td>\n",
       "      <td>7405</td>\n",
       "      <td>24.0</td>\n",
       "      <td>289.421362</td>\n",
       "      <td>182.059312</td>\n",
       "      <td>107.362050</td>\n",
       "      <td>37.939251</td>\n",
       "      <td>78.935409</td>\n",
       "      <td>631.47</td>\n",
       "      <td>90439.09</td>\n",
       "      <td>0.0</td>\n",
       "    </tr>\n",
       "    <tr>\n",
       "      <td>1</td>\n",
       "      <td>1</td>\n",
       "      <td>2014-04-23</td>\n",
       "      <td>7405</td>\n",
       "      <td>24.0</td>\n",
       "      <td>270.239793</td>\n",
       "      <td>171.052782</td>\n",
       "      <td>99.187011</td>\n",
       "      <td>60.756579</td>\n",
       "      <td>70.627109</td>\n",
       "      <td>1166.46</td>\n",
       "      <td>165720.39</td>\n",
       "      <td>0.0</td>\n",
       "    </tr>\n",
       "    <tr>\n",
       "      <td>2</td>\n",
       "      <td>2</td>\n",
       "      <td>2014-04-24</td>\n",
       "      <td>7405</td>\n",
       "      <td>24.0</td>\n",
       "      <td>262.842748</td>\n",
       "      <td>168.241977</td>\n",
       "      <td>94.600770</td>\n",
       "      <td>63.046800</td>\n",
       "      <td>66.049151</td>\n",
       "      <td>1549.81</td>\n",
       "      <td>221707.31</td>\n",
       "      <td>0.0</td>\n",
       "    </tr>\n",
       "    <tr>\n",
       "      <td>3</td>\n",
       "      <td>3</td>\n",
       "      <td>2014-04-25</td>\n",
       "      <td>7405</td>\n",
       "      <td>24.0</td>\n",
       "      <td>255.526995</td>\n",
       "      <td>165.538903</td>\n",
       "      <td>89.988092</td>\n",
       "      <td>64.547229</td>\n",
       "      <td>61.405386</td>\n",
       "      <td>1248.70</td>\n",
       "      <td>178063.52</td>\n",
       "      <td>0.0</td>\n",
       "    </tr>\n",
       "    <tr>\n",
       "      <td>4</td>\n",
       "      <td>4</td>\n",
       "      <td>2014-04-26</td>\n",
       "      <td>7405</td>\n",
       "      <td>24.0</td>\n",
       "      <td>247.199052</td>\n",
       "      <td>162.422242</td>\n",
       "      <td>84.776810</td>\n",
       "      <td>65.723694</td>\n",
       "      <td>56.147906</td>\n",
       "      <td>1345.78</td>\n",
       "      <td>192602.19</td>\n",
       "      <td>0.0</td>\n",
       "    </tr>\n",
       "  </tbody>\n",
       "</table>\n",
       "</div>"
      ],
      "text/plain": [
       "   Unnamed: 0     DATEPRD  NPD_WELL_BORE_CODE  ON_STREAM_HRS  \\\n",
       "0           0  2014-04-22                7405           24.0   \n",
       "1           1  2014-04-23                7405           24.0   \n",
       "2           2  2014-04-24                7405           24.0   \n",
       "3           3  2014-04-25                7405           24.0   \n",
       "4           4  2014-04-26                7405           24.0   \n",
       "\n",
       "   AVG_DOWNHOLE_PRESSURE  AVG_DP_TUBING   AVG_WHP_P  AVG_WHT_P  DP_CHOKE_SIZE  \\\n",
       "0             289.421362     182.059312  107.362050  37.939251      78.935409   \n",
       "1             270.239793     171.052782   99.187011  60.756579      70.627109   \n",
       "2             262.842748     168.241977   94.600770  63.046800      66.049151   \n",
       "3             255.526995     165.538903   89.988092  64.547229      61.405386   \n",
       "4             247.199052     162.422242   84.776810  65.723694      56.147906   \n",
       "\n",
       "   BORE_OIL_VOL  BORE_GAS_VOL  BORE_WAT_VOL  \n",
       "0        631.47      90439.09           0.0  \n",
       "1       1166.46     165720.39           0.0  \n",
       "2       1549.81     221707.31           0.0  \n",
       "3       1248.70     178063.52           0.0  \n",
       "4       1345.78     192602.19           0.0  "
      ]
     },
     "execution_count": 2,
     "metadata": {},
     "output_type": "execute_result"
    }
   ],
   "source": [
    "df = pd.read_csv('data/final_data.csv')\n",
    "df.head()"
   ]
  },
  {
   "cell_type": "code",
   "execution_count": 3,
   "metadata": {},
   "outputs": [
    {
     "data": {
      "text/plain": [
       "(7879, 12)"
      ]
     },
     "execution_count": 3,
     "metadata": {},
     "output_type": "execute_result"
    }
   ],
   "source": [
    "df.shape"
   ]
  },
  {
   "cell_type": "markdown",
   "metadata": {},
   "source": [
    "# Data Scaling"
   ]
  },
  {
   "cell_type": "code",
   "execution_count": 4,
   "metadata": {},
   "outputs": [
    {
     "data": {
      "text/html": [
       "<div>\n",
       "<style scoped>\n",
       "    .dataframe tbody tr th:only-of-type {\n",
       "        vertical-align: middle;\n",
       "    }\n",
       "\n",
       "    .dataframe tbody tr th {\n",
       "        vertical-align: top;\n",
       "    }\n",
       "\n",
       "    .dataframe thead th {\n",
       "        text-align: right;\n",
       "    }\n",
       "</style>\n",
       "<table border=\"1\" class=\"dataframe\">\n",
       "  <thead>\n",
       "    <tr style=\"text-align: right;\">\n",
       "      <th></th>\n",
       "      <th>0</th>\n",
       "      <th>1</th>\n",
       "      <th>2</th>\n",
       "      <th>3</th>\n",
       "      <th>4</th>\n",
       "      <th>5</th>\n",
       "      <th>6</th>\n",
       "      <th>7</th>\n",
       "      <th>8</th>\n",
       "      <th>9</th>\n",
       "    </tr>\n",
       "  </thead>\n",
       "  <tbody>\n",
       "    <tr>\n",
       "      <td>0</td>\n",
       "      <td>0.000000</td>\n",
       "      <td>0.96</td>\n",
       "      <td>0.939509</td>\n",
       "      <td>0.702695</td>\n",
       "      <td>0.888107</td>\n",
       "      <td>0.405726</td>\n",
       "      <td>0.744427</td>\n",
       "      <td>0.106970</td>\n",
       "      <td>0.106227</td>\n",
       "      <td>0.054006</td>\n",
       "    </tr>\n",
       "    <tr>\n",
       "      <td>1</td>\n",
       "      <td>0.000127</td>\n",
       "      <td>0.96</td>\n",
       "      <td>0.877243</td>\n",
       "      <td>0.660213</td>\n",
       "      <td>0.820483</td>\n",
       "      <td>0.649736</td>\n",
       "      <td>0.666073</td>\n",
       "      <td>0.197620</td>\n",
       "      <td>0.194679</td>\n",
       "      <td>0.054006</td>\n",
       "    </tr>\n",
       "    <tr>\n",
       "      <td>2</td>\n",
       "      <td>0.000254</td>\n",
       "      <td>0.96</td>\n",
       "      <td>0.853231</td>\n",
       "      <td>0.649364</td>\n",
       "      <td>0.782545</td>\n",
       "      <td>0.674228</td>\n",
       "      <td>0.622899</td>\n",
       "      <td>0.262577</td>\n",
       "      <td>0.260460</td>\n",
       "      <td>0.054006</td>\n",
       "    </tr>\n",
       "    <tr>\n",
       "      <td>3</td>\n",
       "      <td>0.000381</td>\n",
       "      <td>0.96</td>\n",
       "      <td>0.829482</td>\n",
       "      <td>0.638931</td>\n",
       "      <td>0.744389</td>\n",
       "      <td>0.690274</td>\n",
       "      <td>0.579104</td>\n",
       "      <td>0.211555</td>\n",
       "      <td>0.209181</td>\n",
       "      <td>0.054006</td>\n",
       "    </tr>\n",
       "    <tr>\n",
       "      <td>4</td>\n",
       "      <td>0.000508</td>\n",
       "      <td>0.96</td>\n",
       "      <td>0.802449</td>\n",
       "      <td>0.626901</td>\n",
       "      <td>0.701281</td>\n",
       "      <td>0.702855</td>\n",
       "      <td>0.529522</td>\n",
       "      <td>0.228005</td>\n",
       "      <td>0.226263</td>\n",
       "      <td>0.054006</td>\n",
       "    </tr>\n",
       "  </tbody>\n",
       "</table>\n",
       "</div>"
      ],
      "text/plain": [
       "          0     1         2         3         4         5         6         7  \\\n",
       "0  0.000000  0.96  0.939509  0.702695  0.888107  0.405726  0.744427  0.106970   \n",
       "1  0.000127  0.96  0.877243  0.660213  0.820483  0.649736  0.666073  0.197620   \n",
       "2  0.000254  0.96  0.853231  0.649364  0.782545  0.674228  0.622899  0.262577   \n",
       "3  0.000381  0.96  0.829482  0.638931  0.744389  0.690274  0.579104  0.211555   \n",
       "4  0.000508  0.96  0.802449  0.626901  0.701281  0.702855  0.529522  0.228005   \n",
       "\n",
       "          8         9  \n",
       "0  0.106227  0.054006  \n",
       "1  0.194679  0.054006  \n",
       "2  0.260460  0.054006  \n",
       "3  0.209181  0.054006  \n",
       "4  0.226263  0.054006  "
      ]
     },
     "execution_count": 4,
     "metadata": {},
     "output_type": "execute_result"
    }
   ],
   "source": [
    "dfnew = df.drop(['DATEPRD' , 'NPD_WELL_BORE_CODE'], axis=1)\n",
    "\n",
    "scaler_all_data = MinMaxScaler()\n",
    "data_scaled = scaler_all_data.fit_transform(dfnew)\n",
    "df_data_scaled=pd.DataFrame(data_scaled)\n",
    "df_data_scaled.head(5)"
   ]
  },
  {
   "cell_type": "code",
   "execution_count": 5,
   "metadata": {},
   "outputs": [
    {
     "data": {
      "image/png": "[encoded data removed]",
      "text/plain": [
       "<Figure size 2160x720 with 1 Axes>"
      ]
     },
     "metadata": {
      "needs_background": "light"
     },
     "output_type": "display_data"
    }
   ],
   "source": [
    "color = {'boxes': 'DarkGreen', 'whiskers': 'DarkOrange', 'medians': 'DarkBlue', 'caps': 'Gray'}\n",
    "bp_scaled_all_data = df_data_scaled.plot.box(color=color, sym='r+' ,figsize=(30,10))"
   ]
  },
  {
   "cell_type": "markdown",
   "metadata": {},
   "source": [
    "# Oil & Gas Production Rate Prediction"
   ]
  },
  {
   "cell_type": "code",
   "execution_count": 6,
   "metadata": {},
   "outputs": [
    {
     "data": {
      "text/html": [
       "<div>\n",
       "<style scoped>\n",
       "    .dataframe tbody tr th:only-of-type {\n",
       "        vertical-align: middle;\n",
       "    }\n",
       "\n",
       "    .dataframe tbody tr th {\n",
       "        vertical-align: top;\n",
       "    }\n",
       "\n",
       "    .dataframe thead th {\n",
       "        text-align: right;\n",
       "    }\n",
       "</style>\n",
       "<table border=\"1\" class=\"dataframe\">\n",
       "  <thead>\n",
       "    <tr style=\"text-align: right;\">\n",
       "      <th></th>\n",
       "      <th>ON_STREAM_HRS</th>\n",
       "      <th>AVG_DOWNHOLE_PRESSURE</th>\n",
       "      <th>AVG_DP_TUBING</th>\n",
       "      <th>AVG_WHP_P</th>\n",
       "      <th>AVG_WHT_P</th>\n",
       "      <th>DP_CHOKE_SIZE</th>\n",
       "      <th>BORE_OIL_VOL</th>\n",
       "      <th>BORE_GAS_VOL</th>\n",
       "    </tr>\n",
       "  </thead>\n",
       "  <tbody>\n",
       "    <tr>\n",
       "      <td>0</td>\n",
       "      <td>24.0</td>\n",
       "      <td>289.421362</td>\n",
       "      <td>182.059312</td>\n",
       "      <td>107.362050</td>\n",
       "      <td>37.939251</td>\n",
       "      <td>78.935409</td>\n",
       "      <td>631.47</td>\n",
       "      <td>90439.09</td>\n",
       "    </tr>\n",
       "    <tr>\n",
       "      <td>1</td>\n",
       "      <td>24.0</td>\n",
       "      <td>270.239793</td>\n",
       "      <td>171.052782</td>\n",
       "      <td>99.187011</td>\n",
       "      <td>60.756579</td>\n",
       "      <td>70.627109</td>\n",
       "      <td>1166.46</td>\n",
       "      <td>165720.39</td>\n",
       "    </tr>\n",
       "    <tr>\n",
       "      <td>2</td>\n",
       "      <td>24.0</td>\n",
       "      <td>262.842748</td>\n",
       "      <td>168.241977</td>\n",
       "      <td>94.600770</td>\n",
       "      <td>63.046800</td>\n",
       "      <td>66.049151</td>\n",
       "      <td>1549.81</td>\n",
       "      <td>221707.31</td>\n",
       "    </tr>\n",
       "    <tr>\n",
       "      <td>3</td>\n",
       "      <td>24.0</td>\n",
       "      <td>255.526995</td>\n",
       "      <td>165.538903</td>\n",
       "      <td>89.988092</td>\n",
       "      <td>64.547229</td>\n",
       "      <td>61.405386</td>\n",
       "      <td>1248.70</td>\n",
       "      <td>178063.52</td>\n",
       "    </tr>\n",
       "    <tr>\n",
       "      <td>4</td>\n",
       "      <td>24.0</td>\n",
       "      <td>247.199052</td>\n",
       "      <td>162.422242</td>\n",
       "      <td>84.776810</td>\n",
       "      <td>65.723694</td>\n",
       "      <td>56.147906</td>\n",
       "      <td>1345.78</td>\n",
       "      <td>192602.19</td>\n",
       "    </tr>\n",
       "  </tbody>\n",
       "</table>\n",
       "</div>"
      ],
      "text/plain": [
       "   ON_STREAM_HRS  AVG_DOWNHOLE_PRESSURE  AVG_DP_TUBING   AVG_WHP_P  AVG_WHT_P  \\\n",
       "0           24.0             289.421362     182.059312  107.362050  37.939251   \n",
       "1           24.0             270.239793     171.052782   99.187011  60.756579   \n",
       "2           24.0             262.842748     168.241977   94.600770  63.046800   \n",
       "3           24.0             255.526995     165.538903   89.988092  64.547229   \n",
       "4           24.0             247.199052     162.422242   84.776810  65.723694   \n",
       "\n",
       "   DP_CHOKE_SIZE  BORE_OIL_VOL  BORE_GAS_VOL  \n",
       "0      78.935409        631.47      90439.09  \n",
       "1      70.627109       1166.46     165720.39  \n",
       "2      66.049151       1549.81     221707.31  \n",
       "3      61.405386       1248.70     178063.52  \n",
       "4      56.147906       1345.78     192602.19  "
      ]
     },
     "execution_count": 6,
     "metadata": {},
     "output_type": "execute_result"
    }
   ],
   "source": [
    "dfnew= df.filter(['ON_STREAM_HRS','AVG_DOWNHOLE_PRESSURE','AVG_DP_TUBING','AVG_WHP_P','AVG_WHT_P','DP_CHOKE_SIZE','BORE_OIL_VOL', 'BORE_GAS_VOL'], axis=1)\n",
    "dfnew.head(5)"
   ]
  },
  {
   "cell_type": "code",
   "execution_count": 7,
   "metadata": {
    "colab": {
     "base_uri": "https://localhost:8080/",
     "height": 51
    },
    "colab_type": "code",
    "id": "grvtB0MMeTjK",
    "outputId": "5fafa491-3737-4c90-80b2-575c8946fcdc"
   },
   "outputs": [
    {
     "name": "stdout",
     "output_type": "stream",
     "text": [
      "Features shape: (7879, 6)\n",
      "Target shape (7879, 2)\n"
     ]
    }
   ],
   "source": [
    "X = dfnew.filter(['DATEPRD','NPD_WELL_BORE_CODE','ON_STREAM_HRS', 'AVG_DOWNHOLE_PRESSURE', 'AVG_DP_TUBING', 'AVG_WHP_P', 'AVG_WHT_P', 'DP_CHOKE_SIZE'])\n",
    "Y = dfnew[['BORE_OIL_VOL', 'BORE_GAS_VOL']]\n",
    "print('Features shape:', X.shape)\n",
    "print('Target shape', Y.shape)\n"
   ]
  },
  {
   "cell_type": "markdown",
   "metadata": {
    "colab_type": "text",
    "id": "PJYOx6aoxGc0"
   },
   "source": [
    "### Selection of data set"
   ]
  },
  {
   "cell_type": "code",
   "execution_count": 8,
   "metadata": {},
   "outputs": [],
   "source": [
    "X_train, X_test, y_train, y_test = train_test_split(X, Y, test_size=0.3, random_state=42, shuffle = True)\n",
    "\n",
    "\n",
    "Time=df.iloc[:,0]\n",
    "Time_train, Time_test = train_test_split(Time, test_size=0.3, random_state=42)"
   ]
  },
  {
   "cell_type": "code",
   "execution_count": 9,
   "metadata": {},
   "outputs": [
    {
     "name": "stderr",
     "output_type": "stream",
     "text": [
      "C:\\Users\\DELL\\Anaconda3\\lib\\site-packages\\sklearn\\ensemble\\forest.py:245: FutureWarning: The default value of n_estimators will change from 10 in version 0.20 to 100 in 0.22.\n",
      "  \"10 in version 0.20 to 100 in 0.22.\", FutureWarning)\n"
     ]
    },
    {
     "name": "stdout",
     "output_type": "stream",
     "text": [
      "Model score: 0.97\n",
      "Mean absolute error: 7779.38\n",
      "Root mean squared error: 24968.18\n",
      "R2: 0.97\n"
     ]
    },
    {
     "name": "stderr",
     "output_type": "stream",
     "text": [
      "C:\\Users\\DELL\\Anaconda3\\lib\\site-packages\\sklearn\\base.py:420: FutureWarning: The default value of multioutput (not exposed in score method) will change from 'variance_weighted' to 'uniform_average' in 0.23 to keep consistent with 'metrics.r2_score'. To specify the default value manually and avoid the warning, please either call 'metrics.r2_score' directly or make a custom scorer with 'metrics.make_scorer' (the built-in scorer 'r2' uses multioutput='uniform_average').\n",
      "  \"multioutput='uniform_average').\", FutureWarning)\n"
     ]
    }
   ],
   "source": [
    "# Random analysis to fit Random forest \n",
    "rf = RandomForestRegressor(random_state=0).fit(X_train, y_train) #Random_state is the seed used by the random number generator\n",
    "predictions_rf = rf.predict(X_test)\n",
    "\n",
    "# Metrics\n",
    "print('Model score:',              round(rf.score(X_test, y_test),2))\n",
    "print('Mean absolute error:',      round(mean_absolute_error(y_test, predictions_rf),2))\n",
    "print('Root mean squared error:',  round(sqrt(mean_squared_error(y_test, predictions_rf)),2))\n",
    "print('R2:',                       round(r2_score(y_test, predictions_rf),2))"
   ]
  },
  {
   "cell_type": "markdown",
   "metadata": {},
   "source": [
    "### Features importances"
   ]
  },
  {
   "cell_type": "code",
   "execution_count": 10,
   "metadata": {},
   "outputs": [
    {
     "name": "stdout",
     "output_type": "stream",
     "text": [
      "Variable: AVG_WHP_P                      Importance: 0.51\n",
      "Variable: AVG_WHT_P                      Importance: 0.32\n",
      "Variable: AVG_DP_TUBING                  Importance: 0.06\n",
      "Variable: ON_STREAM_HRS                  Importance: 0.04\n",
      "Variable: AVG_DOWNHOLE_PRESSURE          Importance: 0.04\n",
      "Variable: DP_CHOKE_SIZE                  Importance: 0.02\n"
     ]
    }
   ],
   "source": [
    "# List of features\n",
    "feature_list = list(X_train.columns)\n",
    "\n",
    "# Get numerical feature importances (Gini importance)\n",
    "importances = list(rf.feature_importances_)\n",
    "\n",
    "# List of tuples with variable and importance\n",
    "feature_importances = [(feature, round(importance, 2)) for feature, importance in zip(feature_list, importances)]\n",
    "\n",
    "# Sort the feature importances by most important first\n",
    "feature_importances = sorted(feature_importances, key = lambda x: x[1], reverse = True)\n",
    "\n",
    "# Print out the feature and importances \n",
    "[print('Variable: {:30} Importance: {}'.format(*pair)) for pair in feature_importances];"
   ]
  },
  {
   "cell_type": "code",
   "execution_count": 11,
   "metadata": {},
   "outputs": [
    {
     "data": {
      "image/png": "[encoded data removed]",
      "text/plain": [
       "<Figure size 432x288 with 1 Axes>"
      ]
     },
     "metadata": {
      "needs_background": "light"
     },
     "output_type": "display_data"
    }
   ],
   "source": [
    "# list of x locations for plotting\n",
    "X_testues = list(range(len(importances)))\n",
    "\n",
    "# Make a bar chart\n",
    "plt.bar(X_testues, importances, orientation = 'vertical', color = 'b', edgecolor = 'k', linewidth = 1.2)\n",
    "\n",
    "# Tick labels for x axis\n",
    "plt.xticks(X_testues, feature_list, rotation='vertical')\n",
    "\n",
    "# Axis labels and title\n",
    "plt.ylabel('Importance'); plt.xlabel('Variable'); plt.title('Variable Importances');"
   ]
  },
  {
   "cell_type": "code",
   "execution_count": 12,
   "metadata": {},
   "outputs": [
    {
     "data": {
      "image/png": "[encoded data removed]",
      "text/plain": [
       "<Figure size 432x288 with 1 Axes>"
      ]
     },
     "metadata": {
      "needs_background": "light"
     },
     "output_type": "display_data"
    }
   ],
   "source": [
    "# List of features sorted from most to least important\n",
    "sorted_importances = [importance[1] for importance in feature_importances]\n",
    "sorted_features = [importance[0] for importance in feature_importances]\n",
    "\n",
    "# Cumulative importances\n",
    "cumulative_importances = np.cumsum(sorted_importances)\n",
    "\n",
    "# Make a line graph\n",
    "plt.plot(X_testues, cumulative_importances, 'b-')\n",
    "\n",
    "# Draw line at 95% of importance retained\n",
    "plt.hlines(y = 0.95, xmin=0, xmax=len(sorted_importances), color = 'r', linestyles = 'dashed')\n",
    "\n",
    "# Format x ticks and labels\n",
    "plt.xticks(X_testues, sorted_features, rotation = 'vertical')\n",
    "\n",
    "# Axis labels and title\n",
    "plt.xlabel('Variable'); plt.ylabel('Cumulative Importance'); plt.title('Cumulative Importances');"
   ]
  },
  {
   "cell_type": "code",
   "execution_count": 13,
   "metadata": {},
   "outputs": [
    {
     "name": "stdout",
     "output_type": "stream",
     "text": [
      "Number of features for 95% importance: 5\n"
     ]
    }
   ],
   "source": [
    "# Find number of features for cumulative importance of 95%\n",
    "# Add 1 because Python is zero-indexed\n",
    "print('Number of features for 95% importance:', np.where(cumulative_importances > 0.95)[0][0] + 1)"
   ]
  },
  {
   "cell_type": "code",
   "execution_count": 14,
   "metadata": {},
   "outputs": [
    {
     "name": "stdout",
     "output_type": "stream",
     "text": [
      "Important train features shape: (5515, 5)\n",
      "Important val features shape: (2364, 5)\n"
     ]
    }
   ],
   "source": [
    "# Extract the names of the most important features\n",
    "important_feature_names = [feature[0] for feature in feature_importances[0:5]]\n",
    "\n",
    "# Find the columns of the most important features\n",
    "important_indices = [feature_list.index(feature) for feature in important_feature_names]\n",
    "\n",
    "# # Create training and testing sets with only the important features\n",
    "important_train_features = X_train.iloc[:, important_indices]\n",
    "important_val_features = X_test.iloc[:, important_indices]\n",
    "\n",
    "# # Sanity check on operations\n",
    "print('Important train features shape:', important_train_features.shape)\n",
    "print('Important val features shape:', important_val_features.shape)"
   ]
  },
  {
   "cell_type": "markdown",
   "metadata": {},
   "source": [
    "### Training and testing in features selected \n",
    "Then, we evaluate on the **test data set** the performance using the important features."
   ]
  },
  {
   "cell_type": "code",
   "execution_count": 15,
   "metadata": {
    "colab": {
     "base_uri": "https://localhost:8080/",
     "height": 71
    },
    "colab_type": "code",
    "id": "tSzQ1y1o1Wtd",
    "outputId": "af1fbe02-98b1-4552-ddf7-ba506b052d2d"
   },
   "outputs": [],
   "source": [
    "# Train the expanded model on only the important features\n",
    "rf.fit(important_train_features, y_train);"
   ]
  },
  {
   "cell_type": "code",
   "execution_count": 16,
   "metadata": {
    "colab": {
     "base_uri": "https://localhost:8080/",
     "height": 68
    },
    "colab_type": "code",
    "id": "eJyGsucT1hI2",
    "outputId": "b87ffb17-7030-4a23-91f8-5359c98176fb"
   },
   "outputs": [
    {
     "name": "stdout",
     "output_type": "stream",
     "text": [
      "Mean absolute error: 8338.13\n",
      "Root mean squared error: 25507.03\n",
      "R2: 0.97\n",
      "Explained variance score: 0.9659093146903484\n"
     ]
    }
   ],
   "source": [
    "# Make predictions on validation data\n",
    "predictions_import = rf.predict(important_val_features)\n",
    "\n",
    "# Metrics\n",
    "print('Mean absolute error:',  round(mean_absolute_error(y_test, predictions_import),2))\n",
    "print('Root mean squared error:',   round(sqrt(mean_squared_error(y_test, predictions_import)),2))\n",
    "print('R2:',                   round(r2_score(y_test, predictions_import),2))\n",
    "print('Explained variance score:', explained_variance_score(y_test, predictions_import))"
   ]
  },
  {
   "cell_type": "code",
   "execution_count": 17,
   "metadata": {
    "colab": {
     "base_uri": "https://localhost:8080/",
     "height": 394
    },
    "colab_type": "code",
    "id": "lgBmXhq84MpI",
    "outputId": "c8eabeea-fa6f-45cd-837b-1f8481095a09"
   },
   "outputs": [
    {
     "name": "stdout",
     "output_type": "stream",
     "text": [
      "All features total training and testing time: 0.26 seconds.\n"
     ]
    }
   ],
   "source": [
    "# We require to import the time library for the run time evaluation\n",
    "import time\n",
    "\n",
    "# All features training and testing time\n",
    "all_features_time = []\n",
    "\n",
    "# We decide to do 10 iterations and take average for all features\n",
    "for _ in range(10):\n",
    "    start_time = time.time()\n",
    "    rf.fit(X_train, y_train)\n",
    "    all_features_predictions = rf.predict(X_test)\n",
    "    end_time = time.time()\n",
    "    all_features_time.append(end_time - start_time)\n",
    "\n",
    "all_features_time = np.mean(all_features_time)\n",
    "print('All features total training and testing time:', round(all_features_time, 2), 'seconds.')"
   ]
  },
  {
   "cell_type": "code",
   "execution_count": 18,
   "metadata": {
    "colab": {
     "base_uri": "https://localhost:8080/",
     "height": 394
    },
    "colab_type": "code",
    "id": "xmLqjwfQ4etv",
    "outputId": "9f7199a8-2186-4515-bf81-e71f020ee4a4"
   },
   "outputs": [
    {
     "name": "stdout",
     "output_type": "stream",
     "text": [
      "Reduced features total training and testing time: 0.21 seconds.\n"
     ]
    }
   ],
   "source": [
    "# Time training and testing for reduced feature set\n",
    "reduced_features_time = []\n",
    "\n",
    "# We decide to do 10 iterations and take average for reduced features\n",
    "for _ in range(10):\n",
    "    start_time = time.time()\n",
    "    rf.fit(important_train_features, y_train)\n",
    "    reduced_features_predictions = rf.predict(important_val_features)\n",
    "    end_time = time.time()\n",
    "    reduced_features_time.append(end_time - start_time)\n",
    "\n",
    "reduced_features_time = np.mean(reduced_features_time)\n",
    "print('Reduced features total training and testing time:', round(reduced_features_time, 2), 'seconds.')"
   ]
  },
  {
   "cell_type": "code",
   "execution_count": 19,
   "metadata": {
    "colab": {
     "base_uri": "https://localhost:8080/",
     "height": 111
    },
    "colab_type": "code",
    "id": "zWSuqk4p42c4",
    "outputId": "68197c9a-44aa-4d31-9e1b-3f99f8e41f88"
   },
   "outputs": [
    {
     "data": {
      "text/html": [
       "<div>\n",
       "<style scoped>\n",
       "    .dataframe tbody tr th:only-of-type {\n",
       "        vertical-align: middle;\n",
       "    }\n",
       "\n",
       "    .dataframe tbody tr th {\n",
       "        vertical-align: top;\n",
       "    }\n",
       "\n",
       "    .dataframe thead th {\n",
       "        text-align: right;\n",
       "    }\n",
       "</style>\n",
       "<table border=\"1\" class=\"dataframe\">\n",
       "  <thead>\n",
       "    <tr style=\"text-align: right;\">\n",
       "      <th></th>\n",
       "      <th>Features</th>\n",
       "      <th>R2</th>\n",
       "      <th>Mean absolute error</th>\n",
       "      <th>Root mean squared error</th>\n",
       "      <th>Run time</th>\n",
       "    </tr>\n",
       "  </thead>\n",
       "  <tbody>\n",
       "    <tr>\n",
       "      <td>0</td>\n",
       "      <td>all (8)</td>\n",
       "      <td>0.97</td>\n",
       "      <td>7779.38</td>\n",
       "      <td>24968.18</td>\n",
       "      <td>0.26</td>\n",
       "    </tr>\n",
       "    <tr>\n",
       "      <td>1</td>\n",
       "      <td>reduced (5)</td>\n",
       "      <td>0.97</td>\n",
       "      <td>8338.13</td>\n",
       "      <td>25507.03</td>\n",
       "      <td>0.21</td>\n",
       "    </tr>\n",
       "  </tbody>\n",
       "</table>\n",
       "</div>"
      ],
      "text/plain": [
       "      Features    R2  Mean absolute error  Root mean squared error  Run time\n",
       "0      all (8)  0.97              7779.38                 24968.18      0.26\n",
       "1  reduced (5)  0.97              8338.13                 25507.03      0.21"
      ]
     },
     "execution_count": 19,
     "metadata": {},
     "output_type": "execute_result"
    }
   ],
   "source": [
    "# Mean absolute error\n",
    "all_mean_absolute_error=mean_absolute_error(y_test, predictions_rf)\n",
    "reduced_mean_absolute_error=mean_absolute_error(y_test, predictions_import)\n",
    "\n",
    "# Root squared mean error\n",
    "all_root_mean_squared_error=sqrt(mean_squared_error(y_test, predictions_rf))\n",
    "reduced_root_mean_squared_error=sqrt(mean_squared_error(y_test, predictions_import))\n",
    "\n",
    "# R2 score\n",
    "all_r2_score=r2_score(y_test, predictions_rf)\n",
    "reduced_r2_score=r2_score(y_test, predictions_import)\n",
    "\n",
    "# Summarize the data in a Dataframe\n",
    "comparison = pd.DataFrame({'Features': ['all (8)', 'reduced (5)'], \n",
    "                           'R2': [round(all_r2_score, 2), round(reduced_r2_score, 2)],\n",
    "                           'Mean absolute error': [round(all_mean_absolute_error, 2), round(reduced_mean_absolute_error, 2)],\n",
    "                           'Root mean squared error': [round(all_root_mean_squared_error, 2), round(reduced_root_mean_squared_error, 2)],\n",
    "                           'Run time': [round(all_features_time, 2), round(reduced_features_time, 2)]})\n",
    "\n",
    "comparison[['Features','R2', 'Mean absolute error', 'Root mean squared error', 'Run time']]"
   ]
  },
  {
   "cell_type": "markdown",
   "metadata": {},
   "source": [
    "### Examine the default Random Forest to determine parameters\n"
   ]
  },
  {
   "cell_type": "code",
   "execution_count": 20,
   "metadata": {
    "colab": {
     "base_uri": "https://localhost:8080/",
     "height": 323
    },
    "colab_type": "code",
    "id": "lGRD5bAp6azA",
    "outputId": "695c89ba-a16b-48b7-fed5-f8199f0ca3af"
   },
   "outputs": [
    {
     "name": "stdout",
     "output_type": "stream",
     "text": [
      "Parameters currently in use:\n",
      "\n",
      "{'bootstrap': True,\n",
      " 'criterion': 'mse',\n",
      " 'max_depth': None,\n",
      " 'max_features': 'auto',\n",
      " 'max_leaf_nodes': None,\n",
      " 'min_impurity_decrease': 0.0,\n",
      " 'min_impurity_split': None,\n",
      " 'min_samples_leaf': 1,\n",
      " 'min_samples_split': 2,\n",
      " 'min_weight_fraction_leaf': 0.0,\n",
      " 'n_estimators': 10,\n",
      " 'n_jobs': None,\n",
      " 'oob_score': False,\n",
      " 'random_state': 0,\n",
      " 'verbose': 0,\n",
      " 'warm_start': False}\n"
     ]
    }
   ],
   "source": [
    "# Look at parameters used by our current forest\n",
    "print('Parameters currently in use:\\n')\n",
    "pprint(rf.get_params())"
   ]
  },
  {
   "cell_type": "markdown",
   "metadata": {
    "colab_type": "text",
    "id": "trC_FYHq-vx0"
   },
   "source": [
    "### Defining hyperparameters"
   ]
  },
  {
   "cell_type": "code",
   "execution_count": 21,
   "metadata": {
    "colab": {
     "base_uri": "https://localhost:8080/",
     "height": 442
    },
    "colab_type": "code",
    "id": "CC-8lgZj7vh3",
    "outputId": "19d7d9d5-bf95-45c4-e36c-9452c2fff3b7"
   },
   "outputs": [
    {
     "name": "stdout",
     "output_type": "stream",
     "text": [
      "{'bootstrap': [True, False],\n",
      " 'max_depth': [4, 30, None],\n",
      " 'max_features': ['auto', 'sqrt'],\n",
      " 'min_samples_leaf': [1, 2, 4],\n",
      " 'min_samples_split': [2, 3, 4, 5, 10],\n",
      " 'n_estimators': [2,\n",
      "                  107,\n",
      "                  212,\n",
      "                  317,\n",
      "                  422,\n",
      "                  527,\n",
      "                  632,\n",
      "                  738,\n",
      "                  843,\n",
      "                  948,\n",
      "                  1053,\n",
      "                  1158,\n",
      "                  1263,\n",
      "                  1369,\n",
      "                  1474,\n",
      "                  1579,\n",
      "                  1684,\n",
      "                  1789,\n",
      "                  1894,\n",
      "                  2000]}\n"
     ]
    }
   ],
   "source": [
    "# Definition of specific parameters for Random forest \n",
    "# Number of trees in random forest\n",
    "n_estimators = [int(x) for x in np.linspace(start = 2, stop = 2000, num = 20)]\n",
    "# Number of features to consider at every split\n",
    "max_features = ['auto', 'sqrt']\n",
    "# Maximum number of levels in tree\n",
    "max_depth = [int(x) for x in np.linspace(4, 30, num = 2)]\n",
    "max_depth.append(None)\n",
    "# Minimum number of samples required to split a node\n",
    "min_samples_split = [2, 3, 4, 5, 10]\n",
    "# Minimum number of samples required at each leaf node\n",
    "min_samples_leaf = [1, 2, 4]\n",
    "# Method of selecting samples for training each tree\n",
    "bootstrap = [True, False]\n",
    "\n",
    "# Create the random grid\n",
    "random_grid = {'n_estimators': n_estimators,\n",
    "               'max_features': max_features,\n",
    "               'max_depth': max_depth,\n",
    "               'min_samples_split': min_samples_split,\n",
    "               'min_samples_leaf': min_samples_leaf,\n",
    "               'bootstrap': bootstrap}\n",
    "\n",
    "pprint(random_grid)"
   ]
  },
  {
   "cell_type": "markdown",
   "metadata": {},
   "source": [
    "### Random search with cross validation\n",
    "In cross validation, the training set is split into k smaller sets. We require to follow the following steps: \n",
    "* A model is trained using $k-1$of the folds as training data (Block of the data to train).\n",
    "* The resulting model is validated on the remaining part of the data (Test data). Therefore, we can test the best parameters in this part od the data.\n",
    "* The performance measure reported by k-fold cross-validation is then the average of the values computed in the loop. \n",
    "* The method is computationally expensive. \n",
    "![alt text](https://scikit-learn.org/stable/_images/grid_search_cross_validation.png)"
   ]
  },
  {
   "cell_type": "code",
   "execution_count": 22,
   "metadata": {
    "colab": {
     "base_uri": "https://localhost:8080/",
     "height": 173
    },
    "colab_type": "code",
    "id": "e6YccpHS8Z3D",
    "outputId": "aee84df2-1f86-4c27-82c4-399a2cdc149e"
   },
   "outputs": [
    {
     "name": "stdout",
     "output_type": "stream",
     "text": [
      "Fitting 3 folds for each of 15 candidates, totalling 45 fits\n"
     ]
    },
    {
     "name": "stderr",
     "output_type": "stream",
     "text": [
      "[Parallel(n_jobs=-1)]: Using backend LokyBackend with 8 concurrent workers.\n",
      "[Parallel(n_jobs=-1)]: Done  25 tasks      | elapsed:  1.6min\n",
      "[Parallel(n_jobs=-1)]: Done  45 out of  45 | elapsed:  2.4min finished\n"
     ]
    }
   ],
   "source": [
    "rf = RandomForestRegressor(random_state = 42)\n",
    "\n",
    "# Use the random grid to search for best hyperparameters\n",
    "# Random search of parameters, using 3 fold cross validation, \n",
    "# search across different combinations.\n",
    "rf_random = RandomizedSearchCV(estimator=rf, param_distributions=random_grid, n_iter = 15, scoring='neg_mean_absolute_error',  cv = 3, verbose=2, random_state=42, n_jobs=-1, return_train_score=True)\n",
    "\n",
    "# Fit the random search model\n",
    "rf_random.fit(X_train, y_train);"
   ]
  },
  {
   "cell_type": "markdown",
   "metadata": {
    "colab_type": "text",
    "id": "JPr64VFx_eTs"
   },
   "source": [
    "### Definition of best hyperparameters"
   ]
  },
  {
   "cell_type": "code",
   "execution_count": 23,
   "metadata": {
    "colab": {
     "base_uri": "https://localhost:8080/",
     "height": 119
    },
    "colab_type": "code",
    "id": "Mv_lx5cp8wxt",
    "outputId": "6f273b9d-d748-4aa0-c99f-6af06a478640"
   },
   "outputs": [
    {
     "data": {
      "text/plain": [
       "{'n_estimators': 422,\n",
       " 'min_samples_split': 4,\n",
       " 'min_samples_leaf': 2,\n",
       " 'max_features': 'sqrt',\n",
       " 'max_depth': None,\n",
       " 'bootstrap': False}"
      ]
     },
     "execution_count": 23,
     "metadata": {},
     "output_type": "execute_result"
    }
   ],
   "source": [
    "# Obtaining the best parameters\n",
    "rf_random.best_params_"
   ]
  },
  {
   "cell_type": "markdown",
   "metadata": {
    "colab_type": "text",
    "id": "0FmxMfGnc_Uz"
   },
   "source": [
    "### Evaluation of parameters in test set"
   ]
  },
  {
   "cell_type": "code",
   "execution_count": 24,
   "metadata": {
    "colab": {
     "base_uri": "https://localhost:8080/",
     "height": 139
    },
    "colab_type": "code",
    "id": "7OgbdW-DYzEW",
    "outputId": "b885767e-e5fb-40eb-a768-a6d8d4a7d386"
   },
   "outputs": [
    {
     "name": "stdout",
     "output_type": "stream",
     "text": [
      "Model score: 0.97\n",
      "Mean absolute error: 7275.38\n",
      "Root mean squared error: 23746.05\n",
      "R2: 0.97\n"
     ]
    },
    {
     "name": "stderr",
     "output_type": "stream",
     "text": [
      "C:\\Users\\DELL\\Anaconda3\\lib\\site-packages\\sklearn\\base.py:420: FutureWarning: The default value of multioutput (not exposed in score method) will change from 'variance_weighted' to 'uniform_average' in 0.23 to keep consistent with 'metrics.r2_score'. To specify the default value manually and avoid the warning, please either call 'metrics.r2_score' directly or make a custom scorer with 'metrics.make_scorer' (the built-in scorer 'r2' uses multioutput='uniform_average').\n",
      "  \"multioutput='uniform_average').\", FutureWarning)\n"
     ]
    }
   ],
   "source": [
    "best_random = rf_random.best_estimator_.fit(X_train, y_train)\n",
    "predictions_best_random_test = best_random.predict(X_test)\n",
    "predictions_best_random_train = best_random.predict(X_train)\n",
    "\n",
    "print('Model score:', round(best_random.score(X_test, y_test),2))\n",
    "print('Mean absolute error:', round(mean_absolute_error(y_test, predictions_best_random_test),2))\n",
    "print('Root mean squared error:', round(sqrt(mean_squared_error(y_test, predictions_best_random_test)),2))\n",
    "print('R2:', round(r2_score(y_test, predictions_best_random_test),2))\n",
    "\n",
    "r2_rf=r2_score(y_test, predictions_best_random_test)\n",
    "Mean_absolute_error_rf=mean_absolute_error(y_test, predictions_best_random_test)\n",
    "Root_mean_squared_error_rf=sqrt(mean_squared_error(y_test, predictions_best_random_test))"
   ]
  },
  {
   "cell_type": "markdown",
   "metadata": {
    "colab_type": "text",
    "id": "HMxFV2XF4P8O"
   },
   "source": [
    "### Visualization of  prediction with best hyperparameters"
   ]
  },
  {
   "cell_type": "code",
   "execution_count": 285,
   "metadata": {},
   "outputs": [
    {
     "data": {
      "text/html": [
       "<div>\n",
       "<style scoped>\n",
       "    .dataframe tbody tr th:only-of-type {\n",
       "        vertical-align: middle;\n",
       "    }\n",
       "\n",
       "    .dataframe tbody tr th {\n",
       "        vertical-align: top;\n",
       "    }\n",
       "\n",
       "    .dataframe thead th {\n",
       "        text-align: right;\n",
       "    }\n",
       "</style>\n",
       "<table border=\"1\" class=\"dataframe\">\n",
       "  <thead>\n",
       "    <tr style=\"text-align: right;\">\n",
       "      <th></th>\n",
       "      <th>BORE_OIL_VOL</th>\n",
       "      <th>Predicted</th>\n",
       "    </tr>\n",
       "  </thead>\n",
       "  <tbody>\n",
       "    <tr>\n",
       "      <td>0</td>\n",
       "      <td>162.02</td>\n",
       "      <td>159.288661</td>\n",
       "    </tr>\n",
       "    <tr>\n",
       "      <td>1</td>\n",
       "      <td>3186.96</td>\n",
       "      <td>3231.966848</td>\n",
       "    </tr>\n",
       "    <tr>\n",
       "      <td>2</td>\n",
       "      <td>569.14</td>\n",
       "      <td>601.815872</td>\n",
       "    </tr>\n",
       "    <tr>\n",
       "      <td>3</td>\n",
       "      <td>2905.92</td>\n",
       "      <td>3117.794198</td>\n",
       "    </tr>\n",
       "    <tr>\n",
       "      <td>4</td>\n",
       "      <td>2530.04</td>\n",
       "      <td>2631.232472</td>\n",
       "    </tr>\n",
       "    <tr>\n",
       "      <td>...</td>\n",
       "      <td>...</td>\n",
       "      <td>...</td>\n",
       "    </tr>\n",
       "    <tr>\n",
       "      <td>2359</td>\n",
       "      <td>1310.29</td>\n",
       "      <td>1189.380575</td>\n",
       "    </tr>\n",
       "    <tr>\n",
       "      <td>2360</td>\n",
       "      <td>175.96</td>\n",
       "      <td>185.637449</td>\n",
       "    </tr>\n",
       "    <tr>\n",
       "      <td>2361</td>\n",
       "      <td>3015.97</td>\n",
       "      <td>2980.405707</td>\n",
       "    </tr>\n",
       "    <tr>\n",
       "      <td>2362</td>\n",
       "      <td>303.82</td>\n",
       "      <td>367.867128</td>\n",
       "    </tr>\n",
       "    <tr>\n",
       "      <td>2363</td>\n",
       "      <td>1846.83</td>\n",
       "      <td>1937.247852</td>\n",
       "    </tr>\n",
       "  </tbody>\n",
       "</table>\n",
       "<p>2364 rows × 2 columns</p>\n",
       "</div>"
      ],
      "text/plain": [
       "      BORE_OIL_VOL    Predicted\n",
       "0           162.02   159.288661\n",
       "1          3186.96  3231.966848\n",
       "2           569.14   601.815872\n",
       "3          2905.92  3117.794198\n",
       "4          2530.04  2631.232472\n",
       "...            ...          ...\n",
       "2359       1310.29  1189.380575\n",
       "2360        175.96   185.637449\n",
       "2361       3015.97  2980.405707\n",
       "2362        303.82   367.867128\n",
       "2363       1846.83  1937.247852\n",
       "\n",
       "[2364 rows x 2 columns]"
      ]
     },
     "execution_count": 285,
     "metadata": {},
     "output_type": "execute_result"
    }
   ],
   "source": [
    "result_df = pd.DataFrame({'BORE_OIL_VOL': y_test, 'Predicted': predictions_best_random_test})\n",
    "result_df"
   ]
  },
  {
   "cell_type": "code",
   "execution_count": 26,
   "metadata": {},
   "outputs": [
    {
     "data": {
      "image/png": "[encoded data removed]",
      "text/plain": [
       "<Figure size 432x288 with 1 Axes>"
      ]
     },
     "metadata": {
      "needs_background": "dark"
     },
     "output_type": "display_data"
    }
   ],
   "source": [
    "from scipy import stats\n",
    "import statsmodels as sm\n",
    "\n",
    "y = y_train\n",
    "X_train_np = np.array(X_train)\n",
    "y_np = np.array(y)\n",
    "\n",
    "def abline(slope, intercept):\n",
    "    axes = plt.gca()\n",
    "    x_vals = np.array(axes.get_xlim())\n",
    "    y_vals = intercept + slope * x_vals\n",
    "    plt.plot(x_vals, y_vals, '-')\n",
    "\n",
    "#predict y values for training data\n",
    "y_hat = predictions_best_random_train \n",
    "\n",
    "#plot predicted vs actual\n",
    "plt.plot(y_hat,y_np,'o')\n",
    "plt.xlabel('Predicted')#,color='white')\n",
    "plt.ylabel('Actual')#,color='white')\n",
    "plt.title('Predicted vs. Actual: Visual Linearity Test')#,color='white')\n",
    "plt.tick_params(axis='x', colors='white')\n",
    "plt.tick_params(axis='y', colors='white')\n",
    "abline(1,0)\n",
    "plt.show()"
   ]
  }
 ],
 "metadata": {
  "kernelspec": {
   "display_name": "Python 3",
   "language": "python",
   "name": "python3"
  },
  "language_info": {
   "codemirror_mode": {
    "name": "ipython",
    "version": 3
   },
   "file_extension": ".py",
   "mimetype": "text/x-python",
   "name": "python",
   "nbconvert_exporter": "python",
   "pygments_lexer": "ipython3",
   "version": "3.7.4"
  }
 },
 "nbformat": 4,
 "nbformat_minor": 4
}
