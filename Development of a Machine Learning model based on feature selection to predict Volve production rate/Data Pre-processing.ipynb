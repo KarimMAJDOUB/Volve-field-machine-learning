{
 "cells": [
  {
   "cell_type": "code",
   "execution_count": 1,
   "metadata": {},
   "outputs": [],
   "source": [
    "import pandas as pd\n",
    "import matplotlib.pyplot as plt\n",
    "import numpy as np\n",
    "import seaborn as sns"
   ]
  },
  {
   "cell_type": "markdown",
   "metadata": {},
   "source": [
    "# Cleaned Data"
   ]
  },
  {
   "cell_type": "code",
   "execution_count": 2,
   "metadata": {},
   "outputs": [],
   "source": [
    "df = pd.read_csv('data/cleaned_data.csv')"
   ]
  },
  {
   "cell_type": "code",
   "execution_count": 3,
   "metadata": {},
   "outputs": [
    {
     "data": {
      "text/html": [
       "<div>\n",
       "<style scoped>\n",
       "    .dataframe tbody tr th:only-of-type {\n",
       "        vertical-align: middle;\n",
       "    }\n",
       "\n",
       "    .dataframe tbody tr th {\n",
       "        vertical-align: top;\n",
       "    }\n",
       "\n",
       "    .dataframe thead th {\n",
       "        text-align: right;\n",
       "    }\n",
       "</style>\n",
       "<table border=\"1\" class=\"dataframe\">\n",
       "  <thead>\n",
       "    <tr style=\"text-align: right;\">\n",
       "      <th></th>\n",
       "      <th>Unnamed: 0</th>\n",
       "      <th>index</th>\n",
       "      <th>DATEPRD</th>\n",
       "      <th>NPD_WELL_BORE_NAME</th>\n",
       "      <th>ON_STREAM_HRS</th>\n",
       "      <th>AVG_DOWNHOLE_PRESSURE</th>\n",
       "      <th>AVG_DOWNHOLE_TEMPERATURE</th>\n",
       "      <th>AVG_DP_TUBING</th>\n",
       "      <th>AVG_CHOKE_SIZE_P</th>\n",
       "      <th>AVG_WHP_P</th>\n",
       "      <th>AVG_WHT_P</th>\n",
       "      <th>DP_CHOKE_SIZE</th>\n",
       "      <th>BORE_OIL_VOL</th>\n",
       "      <th>BORE_GAS_VOL</th>\n",
       "      <th>BORE_WAT_VOL</th>\n",
       "    </tr>\n",
       "  </thead>\n",
       "  <tbody>\n",
       "    <tr>\n",
       "      <td>0</td>\n",
       "      <td>0</td>\n",
       "      <td>15</td>\n",
       "      <td>2014-04-22</td>\n",
       "      <td>15/9-F-1 C</td>\n",
       "      <td>24.0</td>\n",
       "      <td>289.421362</td>\n",
       "      <td>106.353209</td>\n",
       "      <td>182.059312</td>\n",
       "      <td>43.343451</td>\n",
       "      <td>107.362050</td>\n",
       "      <td>37.939251</td>\n",
       "      <td>78.935409</td>\n",
       "      <td>631.47</td>\n",
       "      <td>90439.09</td>\n",
       "      <td>0.0</td>\n",
       "    </tr>\n",
       "    <tr>\n",
       "      <td>1</td>\n",
       "      <td>1</td>\n",
       "      <td>16</td>\n",
       "      <td>2014-04-23</td>\n",
       "      <td>15/9-F-1 C</td>\n",
       "      <td>24.0</td>\n",
       "      <td>270.239793</td>\n",
       "      <td>107.643779</td>\n",
       "      <td>171.052782</td>\n",
       "      <td>47.167523</td>\n",
       "      <td>99.187011</td>\n",
       "      <td>60.756579</td>\n",
       "      <td>70.627109</td>\n",
       "      <td>1166.46</td>\n",
       "      <td>165720.39</td>\n",
       "      <td>0.0</td>\n",
       "    </tr>\n",
       "    <tr>\n",
       "      <td>2</td>\n",
       "      <td>2</td>\n",
       "      <td>17</td>\n",
       "      <td>2014-04-24</td>\n",
       "      <td>15/9-F-1 C</td>\n",
       "      <td>24.0</td>\n",
       "      <td>262.842748</td>\n",
       "      <td>107.869234</td>\n",
       "      <td>168.241977</td>\n",
       "      <td>47.732310</td>\n",
       "      <td>94.600770</td>\n",
       "      <td>63.046800</td>\n",
       "      <td>66.049151</td>\n",
       "      <td>1549.81</td>\n",
       "      <td>221707.31</td>\n",
       "      <td>0.0</td>\n",
       "    </tr>\n",
       "    <tr>\n",
       "      <td>3</td>\n",
       "      <td>3</td>\n",
       "      <td>18</td>\n",
       "      <td>2014-04-25</td>\n",
       "      <td>15/9-F-1 C</td>\n",
       "      <td>24.0</td>\n",
       "      <td>255.526995</td>\n",
       "      <td>107.971137</td>\n",
       "      <td>165.538903</td>\n",
       "      <td>48.533769</td>\n",
       "      <td>89.988092</td>\n",
       "      <td>64.547229</td>\n",
       "      <td>61.405386</td>\n",
       "      <td>1248.70</td>\n",
       "      <td>178063.52</td>\n",
       "      <td>0.0</td>\n",
       "    </tr>\n",
       "    <tr>\n",
       "      <td>4</td>\n",
       "      <td>4</td>\n",
       "      <td>19</td>\n",
       "      <td>2014-04-26</td>\n",
       "      <td>15/9-F-1 C</td>\n",
       "      <td>24.0</td>\n",
       "      <td>247.199052</td>\n",
       "      <td>108.052030</td>\n",
       "      <td>162.422242</td>\n",
       "      <td>49.844502</td>\n",
       "      <td>84.776810</td>\n",
       "      <td>65.723694</td>\n",
       "      <td>56.147906</td>\n",
       "      <td>1345.78</td>\n",
       "      <td>192602.19</td>\n",
       "      <td>0.0</td>\n",
       "    </tr>\n",
       "  </tbody>\n",
       "</table>\n",
       "</div>"
      ],
      "text/plain": [
       "   Unnamed: 0  index     DATEPRD NPD_WELL_BORE_NAME  ON_STREAM_HRS  \\\n",
       "0           0     15  2014-04-22         15/9-F-1 C           24.0   \n",
       "1           1     16  2014-04-23         15/9-F-1 C           24.0   \n",
       "2           2     17  2014-04-24         15/9-F-1 C           24.0   \n",
       "3           3     18  2014-04-25         15/9-F-1 C           24.0   \n",
       "4           4     19  2014-04-26         15/9-F-1 C           24.0   \n",
       "\n",
       "   AVG_DOWNHOLE_PRESSURE  AVG_DOWNHOLE_TEMPERATURE  AVG_DP_TUBING  \\\n",
       "0             289.421362                106.353209     182.059312   \n",
       "1             270.239793                107.643779     171.052782   \n",
       "2             262.842748                107.869234     168.241977   \n",
       "3             255.526995                107.971137     165.538903   \n",
       "4             247.199052                108.052030     162.422242   \n",
       "\n",
       "   AVG_CHOKE_SIZE_P   AVG_WHP_P  AVG_WHT_P  DP_CHOKE_SIZE  BORE_OIL_VOL  \\\n",
       "0         43.343451  107.362050  37.939251      78.935409        631.47   \n",
       "1         47.167523   99.187011  60.756579      70.627109       1166.46   \n",
       "2         47.732310   94.600770  63.046800      66.049151       1549.81   \n",
       "3         48.533769   89.988092  64.547229      61.405386       1248.70   \n",
       "4         49.844502   84.776810  65.723694      56.147906       1345.78   \n",
       "\n",
       "   BORE_GAS_VOL  BORE_WAT_VOL  \n",
       "0      90439.09           0.0  \n",
       "1     165720.39           0.0  \n",
       "2     221707.31           0.0  \n",
       "3     178063.52           0.0  \n",
       "4     192602.19           0.0  "
      ]
     },
     "execution_count": 3,
     "metadata": {},
     "output_type": "execute_result"
    }
   ],
   "source": [
    "df.head()"
   ]
  },
  {
   "cell_type": "code",
   "execution_count": 4,
   "metadata": {},
   "outputs": [
    {
     "name": "stdout",
     "output_type": "stream",
     "text": [
      "<class 'pandas.core.frame.DataFrame'>\n",
      "RangeIndex: 7879 entries, 0 to 7878\n",
      "Data columns (total 15 columns):\n",
      "Unnamed: 0                  7879 non-null int64\n",
      "index                       7879 non-null int64\n",
      "DATEPRD                     7879 non-null object\n",
      "NPD_WELL_BORE_NAME          7879 non-null object\n",
      "ON_STREAM_HRS               7879 non-null float64\n",
      "AVG_DOWNHOLE_PRESSURE       7864 non-null float64\n",
      "AVG_DOWNHOLE_TEMPERATURE    7864 non-null float64\n",
      "AVG_DP_TUBING               7864 non-null float64\n",
      "AVG_CHOKE_SIZE_P            7879 non-null float64\n",
      "AVG_WHP_P                   7876 non-null float64\n",
      "AVG_WHT_P                   7876 non-null float64\n",
      "DP_CHOKE_SIZE               7876 non-null float64\n",
      "BORE_OIL_VOL                7879 non-null float64\n",
      "BORE_GAS_VOL                7879 non-null float64\n",
      "BORE_WAT_VOL                7879 non-null float64\n",
      "dtypes: float64(11), int64(2), object(2)\n",
      "memory usage: 923.4+ KB\n"
     ]
    }
   ],
   "source": [
    "df.info()"
   ]
  },
  {
   "cell_type": "markdown",
   "metadata": {},
   "source": [
    "# Data imputation"
   ]
  },
  {
   "cell_type": "code",
   "execution_count": 5,
   "metadata": {},
   "outputs": [
    {
     "data": {
      "text/plain": [
       "Unnamed: 0                   0\n",
       "index                        0\n",
       "DATEPRD                      0\n",
       "NPD_WELL_BORE_NAME           0\n",
       "ON_STREAM_HRS                0\n",
       "AVG_DOWNHOLE_PRESSURE       15\n",
       "AVG_DOWNHOLE_TEMPERATURE    15\n",
       "AVG_DP_TUBING               15\n",
       "AVG_CHOKE_SIZE_P             0\n",
       "AVG_WHP_P                    3\n",
       "AVG_WHT_P                    3\n",
       "DP_CHOKE_SIZE                3\n",
       "BORE_OIL_VOL                 0\n",
       "BORE_GAS_VOL                 0\n",
       "BORE_WAT_VOL                 0\n",
       "dtype: int64"
      ]
     },
     "execution_count": 5,
     "metadata": {},
     "output_type": "execute_result"
    }
   ],
   "source": [
    "df.isna().sum()"
   ]
  },
  {
   "cell_type": "code",
   "execution_count": 6,
   "metadata": {},
   "outputs": [
    {
     "name": "stdout",
     "output_type": "stream",
     "text": [
      "index_AVG_WHP_P = Int64Index([432, 433, 436], dtype='int64')\n",
      "index_AVG_WHT_P = Int64Index([432, 433, 436], dtype='int64')\n",
      "index_DP_CHOKE_SIZE = Int64Index([432, 433, 436], dtype='int64')\n",
      "index_BHP = Int64Index([ 432,  433,  436, 1875, 1876, 1877, 1878, 1879, 1880, 4555, 4556,\n",
      "            4557, 4558, 4559, 4560],\n",
      "           dtype='int64')\n",
      "index_BHT = Int64Index([ 432,  433,  436, 1875, 1876, 1877, 1878, 1879, 1880, 4555, 4556,\n",
      "            4557, 4558, 4559, 4560],\n",
      "           dtype='int64')\n",
      "index_DP = Int64Index([ 432,  433,  436, 1875, 1876, 1877, 1878, 1879, 1880, 4555, 4556,\n",
      "            4557, 4558, 4559, 4560],\n",
      "           dtype='int64')\n"
     ]
    }
   ],
   "source": [
    "index_AVG_WHP_P = df['AVG_WHP_P'].index[df['AVG_WHP_P'].apply(np.isnan)]\n",
    "index_AVG_WHT_P = df['AVG_WHT_P'].index[df['AVG_WHT_P'].apply(np.isnan)]\n",
    "index_DP_CHOKE_SIZE = df['DP_CHOKE_SIZE'].index[df['DP_CHOKE_SIZE'].apply(np.isnan)]\n",
    "index_BHP = df['AVG_DOWNHOLE_PRESSURE'].index[df['AVG_DOWNHOLE_PRESSURE'].apply(np.isnan)]\n",
    "index_BHT = df['AVG_DOWNHOLE_TEMPERATURE'].index[df['AVG_DOWNHOLE_TEMPERATURE'].apply(np.isnan)]\n",
    "index_DP = df['AVG_DP_TUBING'].index[df['AVG_DP_TUBING'].apply(np.isnan)]\n",
    "\n",
    "\n",
    "\n",
    "print(\"index_AVG_WHP_P =\", index_AVG_WHP_P)\n",
    "print(\"index_AVG_WHT_P =\", index_AVG_WHT_P)\n",
    "print(\"index_DP_CHOKE_SIZE =\", index_DP_CHOKE_SIZE)\n",
    "print(\"index_BHP =\", index_BHP)\n",
    "print(\"index_BHT =\", index_BHT)\n",
    "print(\"index_DP =\", index_DP)"
   ]
  },
  {
   "cell_type": "code",
   "execution_count": 7,
   "metadata": {},
   "outputs": [],
   "source": [
    "# We must fill this nan by fillna\n",
    "fill0 = df.iloc[430:438,:]['AVG_WHP_P'].mean()\n",
    "fill1 = df.iloc[430:438,:]['AVG_WHT_P'].mean()\n",
    "fill2 = df.iloc[430:438,:]['DP_CHOKE_SIZE'].mean()\n",
    "fill3 = df.iloc[430:438,:]['AVG_DOWNHOLE_PRESSURE'].mean()\n",
    "fill4 = df.iloc[1873:1882,:]['AVG_DOWNHOLE_PRESSURE'].mean()\n",
    "fill5 = df.iloc[4553:4562,:]['AVG_DOWNHOLE_PRESSURE'].mean()\n",
    "fill6 = df.iloc[430:438,:]['AVG_DOWNHOLE_TEMPERATURE'].mean()\n",
    "fill7 = df.iloc[1873:1882,:]['AVG_DOWNHOLE_TEMPERATURE'].mean()\n",
    "fill8 = df.iloc[4553:4562,:]['AVG_DOWNHOLE_TEMPERATURE'].mean()\n",
    "fill9 = df.iloc[430:438,:]['AVG_DP_TUBING'].mean()\n",
    "fill10 = df.iloc[1873:1882,:]['AVG_DP_TUBING'].mean()\n",
    "fill11 = df.iloc[4553:4562,:]['AVG_DP_TUBING'].mean()\n",
    "\n",
    "\n",
    "#fill\n",
    "df['AVG_WHP_P'].fillna(value = fill0, inplace = True)\n",
    "df['AVG_WHT_P'].fillna(value = fill1, inplace = True)\n",
    "df['DP_CHOKE_SIZE'].fillna(value = fill2, inplace = True)\n",
    "df['AVG_DOWNHOLE_PRESSURE'][430:438].fillna(value = fill3, inplace = True)\n",
    "df['AVG_DOWNHOLE_PRESSURE'][1873:1882].fillna(value = fill4, inplace = True)\n",
    "df['AVG_DOWNHOLE_PRESSURE'][4553:4562].fillna(value = fill5, inplace = True)\n",
    "df['AVG_DOWNHOLE_TEMPERATURE'][430:438].fillna(value = fill6, inplace = True)\n",
    "df['AVG_DOWNHOLE_TEMPERATURE'][1873:1882].fillna(value = fill7, inplace = True)\n",
    "df['AVG_DOWNHOLE_TEMPERATURE'][4553:4562].fillna(value = fill8, inplace = True)\n",
    "df['AVG_DP_TUBING'][430:438].fillna(value = fill9, inplace = True)\n",
    "df['AVG_DP_TUBING'][1873:1882].fillna(value = fill10, inplace = True)\n",
    "df['AVG_DP_TUBING'][4553:4562].fillna(value = fill11, inplace = True)\n",
    "#df['AVG_ANNULUS_PRESS'] = df['AVG_ANNULUS_PRESS'].fillna(method='pad')\n",
    "df['AVG_DOWNHOLE_TEMPERATURE'] = df['AVG_DOWNHOLE_TEMPERATURE'].replace(0, df['AVG_DOWNHOLE_TEMPERATURE'].max()) \n"
   ]
  },
  {
   "cell_type": "code",
   "execution_count": 8,
   "metadata": {},
   "outputs": [
    {
     "data": {
      "text/html": [
       "<div>\n",
       "<style scoped>\n",
       "    .dataframe tbody tr th:only-of-type {\n",
       "        vertical-align: middle;\n",
       "    }\n",
       "\n",
       "    .dataframe tbody tr th {\n",
       "        vertical-align: top;\n",
       "    }\n",
       "\n",
       "    .dataframe thead th {\n",
       "        text-align: right;\n",
       "    }\n",
       "</style>\n",
       "<table border=\"1\" class=\"dataframe\">\n",
       "  <thead>\n",
       "    <tr style=\"text-align: right;\">\n",
       "      <th></th>\n",
       "      <th>Unnamed: 0</th>\n",
       "      <th>index</th>\n",
       "      <th>DATEPRD</th>\n",
       "      <th>NPD_WELL_BORE_NAME</th>\n",
       "      <th>ON_STREAM_HRS</th>\n",
       "      <th>AVG_DOWNHOLE_PRESSURE</th>\n",
       "      <th>AVG_DOWNHOLE_TEMPERATURE</th>\n",
       "      <th>AVG_DP_TUBING</th>\n",
       "      <th>AVG_CHOKE_SIZE_P</th>\n",
       "      <th>AVG_WHP_P</th>\n",
       "      <th>AVG_WHT_P</th>\n",
       "      <th>DP_CHOKE_SIZE</th>\n",
       "      <th>BORE_OIL_VOL</th>\n",
       "      <th>BORE_GAS_VOL</th>\n",
       "      <th>BORE_WAT_VOL</th>\n",
       "    </tr>\n",
       "  </thead>\n",
       "  <tbody>\n",
       "    <tr>\n",
       "      <td>0</td>\n",
       "      <td>0</td>\n",
       "      <td>15</td>\n",
       "      <td>2014-04-22</td>\n",
       "      <td>15/9-F-1 C</td>\n",
       "      <td>24.0</td>\n",
       "      <td>289.421362</td>\n",
       "      <td>106.353209</td>\n",
       "      <td>182.059312</td>\n",
       "      <td>43.343451</td>\n",
       "      <td>107.362050</td>\n",
       "      <td>37.939251</td>\n",
       "      <td>78.935409</td>\n",
       "      <td>631.47</td>\n",
       "      <td>90439.09</td>\n",
       "      <td>0.0</td>\n",
       "    </tr>\n",
       "    <tr>\n",
       "      <td>1</td>\n",
       "      <td>1</td>\n",
       "      <td>16</td>\n",
       "      <td>2014-04-23</td>\n",
       "      <td>15/9-F-1 C</td>\n",
       "      <td>24.0</td>\n",
       "      <td>270.239793</td>\n",
       "      <td>107.643779</td>\n",
       "      <td>171.052782</td>\n",
       "      <td>47.167523</td>\n",
       "      <td>99.187011</td>\n",
       "      <td>60.756579</td>\n",
       "      <td>70.627109</td>\n",
       "      <td>1166.46</td>\n",
       "      <td>165720.39</td>\n",
       "      <td>0.0</td>\n",
       "    </tr>\n",
       "    <tr>\n",
       "      <td>2</td>\n",
       "      <td>2</td>\n",
       "      <td>17</td>\n",
       "      <td>2014-04-24</td>\n",
       "      <td>15/9-F-1 C</td>\n",
       "      <td>24.0</td>\n",
       "      <td>262.842748</td>\n",
       "      <td>107.869234</td>\n",
       "      <td>168.241977</td>\n",
       "      <td>47.732310</td>\n",
       "      <td>94.600770</td>\n",
       "      <td>63.046800</td>\n",
       "      <td>66.049151</td>\n",
       "      <td>1549.81</td>\n",
       "      <td>221707.31</td>\n",
       "      <td>0.0</td>\n",
       "    </tr>\n",
       "    <tr>\n",
       "      <td>3</td>\n",
       "      <td>3</td>\n",
       "      <td>18</td>\n",
       "      <td>2014-04-25</td>\n",
       "      <td>15/9-F-1 C</td>\n",
       "      <td>24.0</td>\n",
       "      <td>255.526995</td>\n",
       "      <td>107.971137</td>\n",
       "      <td>165.538903</td>\n",
       "      <td>48.533769</td>\n",
       "      <td>89.988092</td>\n",
       "      <td>64.547229</td>\n",
       "      <td>61.405386</td>\n",
       "      <td>1248.70</td>\n",
       "      <td>178063.52</td>\n",
       "      <td>0.0</td>\n",
       "    </tr>\n",
       "    <tr>\n",
       "      <td>4</td>\n",
       "      <td>4</td>\n",
       "      <td>19</td>\n",
       "      <td>2014-04-26</td>\n",
       "      <td>15/9-F-1 C</td>\n",
       "      <td>24.0</td>\n",
       "      <td>247.199052</td>\n",
       "      <td>108.052030</td>\n",
       "      <td>162.422242</td>\n",
       "      <td>49.844502</td>\n",
       "      <td>84.776810</td>\n",
       "      <td>65.723694</td>\n",
       "      <td>56.147906</td>\n",
       "      <td>1345.78</td>\n",
       "      <td>192602.19</td>\n",
       "      <td>0.0</td>\n",
       "    </tr>\n",
       "  </tbody>\n",
       "</table>\n",
       "</div>"
      ],
      "text/plain": [
       "   Unnamed: 0  index     DATEPRD NPD_WELL_BORE_NAME  ON_STREAM_HRS  \\\n",
       "0           0     15  2014-04-22         15/9-F-1 C           24.0   \n",
       "1           1     16  2014-04-23         15/9-F-1 C           24.0   \n",
       "2           2     17  2014-04-24         15/9-F-1 C           24.0   \n",
       "3           3     18  2014-04-25         15/9-F-1 C           24.0   \n",
       "4           4     19  2014-04-26         15/9-F-1 C           24.0   \n",
       "\n",
       "   AVG_DOWNHOLE_PRESSURE  AVG_DOWNHOLE_TEMPERATURE  AVG_DP_TUBING  \\\n",
       "0             289.421362                106.353209     182.059312   \n",
       "1             270.239793                107.643779     171.052782   \n",
       "2             262.842748                107.869234     168.241977   \n",
       "3             255.526995                107.971137     165.538903   \n",
       "4             247.199052                108.052030     162.422242   \n",
       "\n",
       "   AVG_CHOKE_SIZE_P   AVG_WHP_P  AVG_WHT_P  DP_CHOKE_SIZE  BORE_OIL_VOL  \\\n",
       "0         43.343451  107.362050  37.939251      78.935409        631.47   \n",
       "1         47.167523   99.187011  60.756579      70.627109       1166.46   \n",
       "2         47.732310   94.600770  63.046800      66.049151       1549.81   \n",
       "3         48.533769   89.988092  64.547229      61.405386       1248.70   \n",
       "4         49.844502   84.776810  65.723694      56.147906       1345.78   \n",
       "\n",
       "   BORE_GAS_VOL  BORE_WAT_VOL  \n",
       "0      90439.09           0.0  \n",
       "1     165720.39           0.0  \n",
       "2     221707.31           0.0  \n",
       "3     178063.52           0.0  \n",
       "4     192602.19           0.0  "
      ]
     },
     "execution_count": 8,
     "metadata": {},
     "output_type": "execute_result"
    }
   ],
   "source": [
    "df.head()"
   ]
  },
  {
   "cell_type": "code",
   "execution_count": 9,
   "metadata": {},
   "outputs": [
    {
     "data": {
      "text/plain": [
       "Unnamed: 0                  0\n",
       "index                       0\n",
       "DATEPRD                     0\n",
       "NPD_WELL_BORE_NAME          0\n",
       "ON_STREAM_HRS               0\n",
       "AVG_DOWNHOLE_PRESSURE       0\n",
       "AVG_DOWNHOLE_TEMPERATURE    0\n",
       "AVG_DP_TUBING               0\n",
       "AVG_CHOKE_SIZE_P            0\n",
       "AVG_WHP_P                   0\n",
       "AVG_WHT_P                   0\n",
       "DP_CHOKE_SIZE               0\n",
       "BORE_OIL_VOL                0\n",
       "BORE_GAS_VOL                0\n",
       "BORE_WAT_VOL                0\n",
       "dtype: int64"
      ]
     },
     "execution_count": 9,
     "metadata": {},
     "output_type": "execute_result"
    }
   ],
   "source": [
    "df.isna().sum()"
   ]
  },
  {
   "cell_type": "code",
   "execution_count": 10,
   "metadata": {},
   "outputs": [
    {
     "name": "stdout",
     "output_type": "stream",
     "text": [
      "<class 'pandas.core.frame.DataFrame'>\n",
      "RangeIndex: 7879 entries, 0 to 7878\n",
      "Data columns (total 15 columns):\n",
      "Unnamed: 0                  7879 non-null int64\n",
      "index                       7879 non-null int64\n",
      "DATEPRD                     7879 non-null object\n",
      "NPD_WELL_BORE_NAME          7879 non-null object\n",
      "ON_STREAM_HRS               7879 non-null float64\n",
      "AVG_DOWNHOLE_PRESSURE       7879 non-null float64\n",
      "AVG_DOWNHOLE_TEMPERATURE    7879 non-null float64\n",
      "AVG_DP_TUBING               7879 non-null float64\n",
      "AVG_CHOKE_SIZE_P            7879 non-null float64\n",
      "AVG_WHP_P                   7879 non-null float64\n",
      "AVG_WHT_P                   7879 non-null float64\n",
      "DP_CHOKE_SIZE               7879 non-null float64\n",
      "BORE_OIL_VOL                7879 non-null float64\n",
      "BORE_GAS_VOL                7879 non-null float64\n",
      "BORE_WAT_VOL                7879 non-null float64\n",
      "dtypes: float64(11), int64(2), object(2)\n",
      "memory usage: 923.4+ KB\n"
     ]
    }
   ],
   "source": [
    "df.info()"
   ]
  },
  {
   "cell_type": "markdown",
   "metadata": {},
   "source": [
    "# Feature selection"
   ]
  },
  {
   "cell_type": "code",
   "execution_count": 11,
   "metadata": {},
   "outputs": [],
   "source": [
    "X = df.filter(['ON_STREAM_HRS','AVG_DOWNHOLE_PRESSURE', 'AVG_DOWNHOLE_TEMPERATURE',\n",
    "          'AVG_DP_TUBING', 'AVG_CHOKE_SIZE_P','AVG_WHP_P','AVG_WHT_P', 'DP_CHOKE_SIZE'], axis=1)\n",
    "\n",
    "Y = df.filter(['BORE_OIL_VOL'])"
   ]
  },
  {
   "cell_type": "code",
   "execution_count": 12,
   "metadata": {},
   "outputs": [
    {
     "name": "stderr",
     "output_type": "stream",
     "text": [
      "C:\\Users\\DELL\\Anaconda3\\lib\\site-packages\\sklearn\\utils\\validation.py:724: DataConversionWarning: A column-vector y was passed when a 1d array was expected. Please change the shape of y to (n_samples, ), for example using ravel().\n",
      "  y = column_or_1d(y, warn=True)\n"
     ]
    },
    {
     "data": {
      "text/plain": [
       "array([ True,  True, False,  True, False,  True,  True,  True])"
      ]
     },
     "execution_count": 12,
     "metadata": {},
     "output_type": "execute_result"
    }
   ],
   "source": [
    "from sklearn.feature_selection import SelectKBest, f_regression\n",
    "\n",
    "selector = SelectKBest(f_regression, k=6)\n",
    "selector.fit(X,Y)\n",
    "selector.scores_\n",
    "selector.get_support()"
   ]
  },
  {
   "cell_type": "code",
   "execution_count": 14,
   "metadata": {},
   "outputs": [],
   "source": [
    "df = df.filter(['DATEPRD', 'NPD_WELL_BORE_NAME','ON_STREAM_HRS','AVG_DOWNHOLE_PRESSURE',\n",
    "          'AVG_DP_TUBING','AVG_WHP_P','AVG_WHT_P','DP_CHOKE_SIZE','BORE_OIL_VOL','BORE_GAS_VOL','BORE_WAT_VOL'], axis=1)\n",
    "df.to_csv('data/final_data.csv')"
   ]
  },
  {
   "cell_type": "code",
   "execution_count": null,
   "metadata": {},
   "outputs": [],
   "source": []
  },
  {
   "cell_type": "code",
   "execution_count": null,
   "metadata": {},
   "outputs": [],
   "source": []
  },
  {
   "cell_type": "code",
   "execution_count": null,
   "metadata": {},
   "outputs": [],
   "source": []
  }
 ],
 "metadata": {
  "kernelspec": {
   "display_name": "Python 3",
   "language": "python",
   "name": "python3"
  },
  "language_info": {
   "codemirror_mode": {
    "name": "ipython",
    "version": 3
   },
   "file_extension": ".py",
   "mimetype": "text/x-python",
   "name": "python",
   "nbconvert_exporter": "python",
   "pygments_lexer": "ipython3",
   "version": "3.7.4"
  }
 },
 "nbformat": 4,
 "nbformat_minor": 4
}
